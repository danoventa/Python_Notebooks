{
 "cells": [
  {
   "cell_type": "markdown",
   "metadata": {},
   "source": [
    "# Errors and exceptions"
   ]
  },
  {
   "cell_type": "code",
   "execution_count": null,
   "metadata": {
    "collapsed": false
   },
   "outputs": [],
   "source": [
    "2 + 's'"
   ]
  },
  {
   "cell_type": "code",
   "execution_count": null,
   "metadata": {
    "collapsed": false
   },
   "outputs": [],
   "source": [
    "try:\n",
    "    2+'s'\n",
    "except TypeError:\n",
    "    print('There was a type error')\n",
    "finally:\n",
    "    print(\"Finally this was printed\")"
   ]
  },
  {
   "cell_type": "code",
   "execution_count": null,
   "metadata": {
    "collapsed": false
   },
   "outputs": [],
   "source": [
    "try:\n",
    "    f = open('testfile1', 'r')\n",
    "    f.write('test write this')\n",
    "except:\n",
    "    print('Error in writing to the file')\n",
    "else:\n",
    "    print('file write was a success')"
   ]
  },
  {
   "cell_type": "code",
   "execution_count": null,
   "metadata": {
    "collapsed": false
   },
   "outputs": [],
   "source": [
    "try:\n",
    "    f = open('testfiless', 'r')\n",
    "    f.write('Test write this')\n",
    "except:\n",
    "    print('There was an erro')\n",
    "finally:\n",
    "    print('Always executes finally code blocks')"
   ]
  },
  {
   "cell_type": "code",
   "execution_count": null,
   "metadata": {
    "collapsed": false
   },
   "outputs": [],
   "source": [
    "def askint():\n",
    "    try:\n",
    "        val = int(input(\"Please enter an integer:\"))\n",
    "    except:\n",
    "        print(\"NOt an integer\")\n",
    "        val = int(input('Try again- please enter an integer:'))\n",
    "    finally:\n",
    "        print(\"finally block excecuted\")\n",
    "    print(val)"
   ]
  },
  {
   "cell_type": "code",
   "execution_count": null,
   "metadata": {
    "collapsed": false
   },
   "outputs": [],
   "source": [
    "askint()"
   ]
  },
  {
   "cell_type": "code",
   "execution_count": null,
   "metadata": {
    "collapsed": true
   },
   "outputs": [],
   "source": [
    "def askint():\n",
    "    \n",
    "    while True:\n",
    "        try:\n",
    "            val = int(input('Please enter integer: '))\n",
    "        \n",
    "        except:\n",
    "            print('You not enter integer!')\n",
    "            continue\n",
    "        else:\n",
    "            print('Good job sherlock')\n",
    "            break\n",
    "        finally:\n",
    "            print('finally')\n",
    "        \n",
    "        print(val)"
   ]
  },
  {
   "cell_type": "code",
   "execution_count": null,
   "metadata": {
    "collapsed": false
   },
   "outputs": [],
   "source": [
    "askint()"
   ]
  },
  {
   "cell_type": "markdown",
   "metadata": {},
   "source": [
    "# Erros and exceptions homework"
   ]
  },
  {
   "cell_type": "code",
   "execution_count": null,
   "metadata": {
    "collapsed": false
   },
   "outputs": [],
   "source": [
    "for i in ['a', 'b', 'c']:\n",
    "    try:\n",
    "        print(i**2)\n",
    "    except:\n",
    "        print(\"Can't do dat\")\n",
    "    else:\n",
    "        print(1)\n",
    "    finally:\n",
    "        print('These are not the droids you are looking for')"
   ]
  },
  {
   "cell_type": "code",
   "execution_count": null,
   "metadata": {
    "collapsed": false
   },
   "outputs": [],
   "source": [
    "try:\n",
    "    x = 5\n",
    "    y = 0\n",
    "    z =x/y\n",
    "except:\n",
    "    print('Deleting by 0 is undefined, maybe it equals infinity?')\n",
    "finally:\n",
    "    print('finale')"
   ]
  },
  {
   "cell_type": "code",
   "execution_count": null,
   "metadata": {
    "collapsed": true
   },
   "outputs": [],
   "source": [
    "from IPython.display import clear_output\n",
    "def ask():\n",
    "    while True:\n",
    "        \n",
    "        try:\n",
    "            val = int(input('enter integer I double, promise!'))\n",
    "            clear_output()\n",
    "        except:\n",
    "            print('That was not an integer, try again')\n",
    "            continue\n",
    "        else:\n",
    "            print('excellent work, I was worried for a minute')\n",
    "            break\n",
    "        finally:\n",
    "            print('magic;')\n",
    "    print(val**2)"
   ]
  },
  {
   "cell_type": "code",
   "execution_count": null,
   "metadata": {
    "collapsed": false
   },
   "outputs": [],
   "source": [
    "ask()"
   ]
  },
  {
   "cell_type": "code",
   "execution_count": null,
   "metadata": {
    "collapsed": true
   },
   "outputs": [],
   "source": []
  }
 ],
 "metadata": {
  "kernelspec": {
   "display_name": "Python 3",
   "language": "python",
   "name": "python3"
  },
  "language_info": {
   "codemirror_mode": {
    "name": "ipython",
    "version": 3
   },
   "file_extension": ".py",
   "mimetype": "text/x-python",
   "name": "python",
   "nbconvert_exporter": "python",
   "pygments_lexer": "ipython3",
   "version": "3.5.0"
  }
 },
 "nbformat": 4,
 "nbformat_minor": 0
}
