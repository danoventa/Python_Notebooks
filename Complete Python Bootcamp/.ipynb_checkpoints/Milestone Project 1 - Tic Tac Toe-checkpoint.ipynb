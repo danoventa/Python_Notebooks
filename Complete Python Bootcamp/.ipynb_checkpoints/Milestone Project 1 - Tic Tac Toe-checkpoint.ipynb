{
 "cells": [
  {
   "cell_type": "markdown",
   "metadata": {},
   "source": [
    "# Tic Tac Toe"
   ]
  },
  {
   "cell_type": "code",
   "execution_count": null,
   "metadata": {
    "collapsed": false,
    "scrolled": true
   },
   "outputs": [],
   "source": [
    "from IPython.display import clear_output\n",
    "\n",
    "def printBoard(m):\n",
    "    \n",
    "    index = 1\n",
    "    board = \"\"\n",
    "    board += \"\\n\"\n",
    "    for slot in m:\n",
    "        if index%3 == 1 and index != 1:\n",
    "            board += \"\\n________________\\n\\n\"\n",
    "        if index == 2 or index == 5 or index == 8:\n",
    "            board += \" | \"\n",
    "            \n",
    "        board += \" \" + str(slot) + \" \"\n",
    "        \n",
    "        if index == 2 or index == 5 or index == 8:\n",
    "            board += \" | \"\n",
    "        index += 1\n",
    "    board += \"\\n\"\n",
    "    print(board)\n",
    "    \n",
    "def makeMove(player, position, matrix):\n",
    "    legit = False\n",
    "    while(not legit):\n",
    "        if player == 0 and position < 9:\n",
    "            if matrix[position].isdigit():\n",
    "                matrix[position] = 'X'\n",
    "                legit = True\n",
    "            else:\n",
    "                print('Player 1, that is invalid')\n",
    "                position =  int(input(\"Please input a valid and available position\"))\n",
    "        elif player == 0 and position >= 9:\n",
    "            print('Player 1, that is invalid')\n",
    "            position = int(input(\"Please input a valid and available position\"))\n",
    "        \n",
    "        elif player == 1 and position < 9:\n",
    "            if matrix[position].isdigit():\n",
    "                matrix[position] = 'O'\n",
    "                legit = True\n",
    "            else:\n",
    "                print('Player 2, that is invalid')\n",
    "                position = int(input(\"Please input a valid and available position\"))\n",
    "        elif player == 1 and position >= 9:\n",
    "            print('Player 2, that is invalid')\n",
    "            position =  int(input(\"Please input a valid and available position\"))\n",
    "    return matrix\n",
    "    \n",
    "def checkWin(player, matrix):\n",
    "    mark = 'X'\n",
    "    if player == 1:\n",
    "        mark = 'O'\n",
    "\n",
    "    hatrix = [mark for _ in range(9)]\n",
    "    if matrix[0:3] == hatrix[0:3] or matrix[0:7:3] == hatrix[0:7:3] or matrix[2: 9: 3] == hatrix [2:9:3]:\n",
    "        return False\n",
    "    elif matrix[6:9] == hatrix[6:9] or matrix[0:9:4] == hatrix[0:9:4] or matrix [2:8:2] == hatrix [2:8:2]:\n",
    "        return False\n",
    "    elif matrix[1:9:3] == hatrix[1:9:3] or matrix[3:6] == hatrix[3:6]:\n",
    "        return False\n",
    "    else:\n",
    "        return True\n",
    "    \n",
    "def tictactoe():\n",
    "\n",
    "    \n",
    "    matrix = [str(_) for _ in range(9)]\n",
    "    printBoard(matrix)\n",
    "\n",
    "    noWinner = True\n",
    "    Winner = 2\n",
    "    iterator = 0\n",
    "    for x in range(9):\n",
    "        if x%2 == 0:\n",
    "            coord = int(input(\"Player 1, choose your location: \"))\n",
    "            matrix = makeMove(0, coord, matrix)\n",
    "            if x > 3:\n",
    "                noWinner = checkWin(0, matrix)\n",
    "                if noWinner == False:\n",
    "                    Winner = 0\n",
    "        else:\n",
    "            coord = int(input(\"Player 2, choose your location: \"))\n",
    "            matrix = makeMove(1, coord, matrix)\n",
    "            if x > 3:\n",
    "                noWinner = checkWin(1, matrix)\n",
    "                if noWinner == False:\n",
    "                    Winner = 1\n",
    "        if(noWinner):\n",
    "            clear_output()\n",
    "            printBoard(matrix)\n",
    "        else:\n",
    "            clear_output()\n",
    "            break\n",
    "    \n",
    "    if Winner == 2:\n",
    "        print(\"CATS GAME!\")\n",
    "    else:\n",
    "        print(\"Congratulations Player \" + str(Winner +1))\n",
    "    printBoard(matrix)\n",
    "\n",
    "def anotherGame():\n",
    "    print(\"1: Yes \\n2: No\")\n",
    "    response = int(input(\"Another Game\"))\n",
    "    if response == 1:\n",
    "        return True\n",
    "    else:\n",
    "        return False\n",
    "    \n",
    "def gameStart():\n",
    "    print(\"Greetings Players!\")\n",
    "    keepPlaying = True\n",
    "    while keepPlaying:\n",
    "        tictactoe()\n",
    "        keepPlaying = anotherGame()\n",
    "        clear_output()\n",
    "    print(\"Good tidings!\")"
   ]
  },
  {
   "cell_type": "code",
   "execution_count": null,
   "metadata": {
    "collapsed": false
   },
   "outputs": [],
   "source": [
    "gameStart()"
   ]
  },
  {
   "cell_type": "code",
   "execution_count": null,
   "metadata": {
    "collapsed": false
   },
   "outputs": [],
   "source": []
  },
  {
   "cell_type": "code",
   "execution_count": null,
   "metadata": {
    "collapsed": true
   },
   "outputs": [],
   "source": []
  },
  {
   "cell_type": "code",
   "execution_count": null,
   "metadata": {
    "collapsed": false
   },
   "outputs": [],
   "source": []
  },
  {
   "cell_type": "code",
   "execution_count": null,
   "metadata": {
    "collapsed": false
   },
   "outputs": [],
   "source": [
    "\n"
   ]
  },
  {
   "cell_type": "code",
   "execution_count": null,
   "metadata": {
    "collapsed": false
   },
   "outputs": [],
   "source": []
  },
  {
   "cell_type": "code",
   "execution_count": null,
   "metadata": {
    "collapsed": true
   },
   "outputs": [],
   "source": []
  }
 ],
 "metadata": {
  "kernelspec": {
   "display_name": "Python 3",
   "language": "python",
   "name": "python3"
  },
  "language_info": {
   "codemirror_mode": {
    "name": "ipython",
    "version": 3
   },
   "file_extension": ".py",
   "mimetype": "text/x-python",
   "name": "python",
   "nbconvert_exporter": "python",
   "pygments_lexer": "ipython3",
   "version": "3.5.0"
  }
 },
 "nbformat": 4,
 "nbformat_minor": 0
}
