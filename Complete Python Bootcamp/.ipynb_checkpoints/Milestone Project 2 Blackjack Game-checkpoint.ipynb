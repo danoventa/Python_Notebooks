{
 "cells": [
  {
   "cell_type": "code",
   "execution_count": null,
   "metadata": {
    "collapsed": false
   },
   "outputs": [],
   "source": [
    "import random\n",
    "\n",
    "class Player(object):\n",
    "    \n",
    "    def __init__(self, bankroll=100):\n",
    "        self.bankroll = bankroll\n",
    "        self.hand = list()\n",
    "        self.wins = 0\n",
    "        self.stay = False\n",
    "        \n",
    "    def add_bankroll(self, amount):\n",
    "        self.bankroll += amount\n",
    "    \n",
    "    def raises(self, amount):\n",
    "        self.bankroll -= amount\n",
    "                 \n",
    "    def wins(self, amount):\n",
    "        self.bankroll += amount\n",
    "        self.wins += 1\n",
    "            \n",
    "    def stay(self, stays):\n",
    "        self.stay = stays\n",
    "            \n",
    "    def hit_me(self, card):\n",
    "  \n",
    "        self.hand.append(card)\n",
    "        \n",
    "class Deck(object):\n",
    "    \n",
    "    cards_per_deck = 52\n",
    "        \n",
    "    def __init__(self):\n",
    "        self.num_cards = Deck.cards_per_deck \n",
    "        self.deck = list((card+1, None, None) for card in range(self.num_cards))\n",
    "        random.shuffle(self.deck)\n",
    "                 \n",
    "    def select_coat(self, card):\n",
    "        if 0 < card <= 13:\n",
    "            return \"Spades\"\n",
    "        elif 13 < card <= 26:\n",
    "            return \"Hearts\"\n",
    "        elif 26 < card <= 39:\n",
    "            return \"Clubs\"\n",
    "        else:\n",
    "            return \"Diamonds\"\n",
    "    \n",
    "    def select_number(self, card):\n",
    "        this_card = card[0]\n",
    "        if this_card % 13 == 0:\n",
    "            return (10, \"King\", self.select_coat(this_card))\n",
    "        elif this_card % 12 == 0:\n",
    "            return (10, \"Queen\", self.select_coat(this_card))\n",
    "        elif this_card % 11 == 0:\n",
    "            return (10, \"Jack\", self.select_coat(this_card))\n",
    "        elif this_card % 10 == 0:\n",
    "            return (10, \"Ten\", self.select_coat(this_card))\n",
    "        elif this_card % 9 == 0:\n",
    "            return (9, \"Nine\", self.select_coat(this_card))\n",
    "        elif this_card % 8 == 0:\n",
    "            return (8, \"Eight\", self.select_coat(this_card))\n",
    "        elif this_card % 7 == 0:\n",
    "            return (7, \"Seven\", self.select_coat(this_card))\n",
    "        elif this_card % 6 == 0:\n",
    "            return (6, \"Six\", self.select_coat(this_card))\n",
    "        elif this_card % 5 == 0:\n",
    "            return (5, \"Five\", self.select_coat(this_card))\n",
    "        elif this_card % 4 == 0:\n",
    "            return (4, \"Four\", self.select_coat(this_card))\n",
    "        elif this_card % 3 == 0:\n",
    "            return (3, \"Three\", self.select_coat(this_card))\n",
    "        elif this_card % 2 == 0:\n",
    "            return (2, \"Two\", self.select_coat(this_card))\n",
    "        else:\n",
    "            return (1, \"Ace\", self.select_coat(this_card))\n",
    "\n",
    "    def setup_deck(self):\n",
    "        for card in self.deck:\n",
    "            card = tuple(self.select_number(card))\n",
    "            print(card)\n",
    "    \n",
    "    def __len__(self):\n",
    "        return self.num_cards\n",
    "\n",
    "def game():\n",
    "    Sam = Player(bankroll = 2000)\n",
    "    Dealer = Player(bankroll = 200000)\n",
    "    while True:\n",
    "        nDeck = Deck()\n",
    "        nDeck.setup_deck()\n",
    "        index = 0\n",
    "        for card in nDeck.deck:\n",
    "            index += 1\n",
    "            if index <= 4:\n",
    "                if index%2== 0:\n",
    "                    Sam.hit_me(card)\n",
    "                else:\n",
    "                    Dealer.hit_me(card)\n",
    "            print(Sam.hand)\n",
    "            print(Dealer.hand)\n",
    "            print(sum(Sam.hand))\n",
    "            print(card%index)\n",
    "            print(nDeck.deck)\n",
    "        \n",
    "        break\n",
    "        \n",
    "    "
   ]
  },
  {
   "cell_type": "code",
   "execution_count": null,
   "metadata": {
    "collapsed": false
   },
   "outputs": [],
   "source": [
    "game()"
   ]
  },
  {
   "cell_type": "code",
   "execution_count": null,
   "metadata": {
    "collapsed": false
   },
   "outputs": [],
   "source": [
    "for item in list(range(1, 14)):\n",
    "    print(item%1)"
   ]
  },
  {
   "cell_type": "code",
   "execution_count": null,
   "metadata": {
    "collapsed": false
   },
   "outputs": [],
   "source": []
  },
  {
   "cell_type": "code",
   "execution_count": null,
   "metadata": {
    "collapsed": true
   },
   "outputs": [],
   "source": []
  }
 ],
 "metadata": {
  "kernelspec": {
   "display_name": "Python 3",
   "language": "python",
   "name": "python3"
  },
  "language_info": {
   "codemirror_mode": {
    "name": "ipython",
    "version": 3
   },
   "file_extension": ".py",
   "mimetype": "text/x-python",
   "name": "python",
   "nbconvert_exporter": "python",
   "pygments_lexer": "ipython3",
   "version": "3.5.0"
  }
 },
 "nbformat": 4,
 "nbformat_minor": 0
}
