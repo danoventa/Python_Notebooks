{
 "cells": [
  {
   "cell_type": "code",
   "execution_count": 15,
   "metadata": {
    "collapsed": false
   },
   "outputs": [],
   "source": [
    "import random\n",
    "\n",
    "class Player(object):\n",
    "    \n",
    "    def __init__(self, bankroll=100, hand = list():\n",
    "        self.bankroll = bankroll\n",
    "        self.hand = hand\n",
    "        \n",
    "    def add_bankroll(self, amount):\n",
    "        self.bankroll += amount\n",
    "        \n",
    "    def hit_me(self, card):\n",
    "        self.hand.append(card)\n",
    "        \n",
    "class Deck(object):\n",
    "    cards_per_deck = 52\n",
    "    \n",
    "    def __init__(self, decks=1):\n",
    "        self.decks = decks\n",
    "        self.num_cards = Deck.cards_per_deck * decks \n",
    "        self.deck = ((x+1) for card in range(self.num_cards))\n",
    "    \n",
    "    def shuffle_deck(self):\n",
    "        random.shuffle(self.deck)\n",
    "        \n",
    "    def draw_card(self):\n",
    "        return self.deck.pop()\n",
    "    \n"
   ]
  },
  {
   "cell_type": "code",
   "execution_count": 2,
   "metadata": {
    "collapsed": true
   },
   "outputs": [],
   "source": []
  },
  {
   "cell_type": "code",
   "execution_count": 3,
   "metadata": {
    "collapsed": false
   },
   "outputs": [
    {
     "data": {
      "text/plain": [
       "1000"
      ]
     },
     "execution_count": 3,
     "metadata": {},
     "output_type": "execute_result"
    }
   ],
   "source": []
  },
  {
   "cell_type": "code",
   "execution_count": null,
   "metadata": {
    "collapsed": true
   },
   "outputs": [],
   "source": []
  }
 ],
 "metadata": {
  "kernelspec": {
   "display_name": "Python 3",
   "language": "python",
   "name": "python3"
  },
  "language_info": {
   "codemirror_mode": {
    "name": "ipython",
    "version": 3
   },
   "file_extension": ".py",
   "mimetype": "text/x-python",
   "name": "python",
   "nbconvert_exporter": "python",
   "pygments_lexer": "ipython3",
   "version": "3.5.0"
  }
 },
 "nbformat": 4,
 "nbformat_minor": 0
}
