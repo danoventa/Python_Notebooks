{
 "cells": [
  {
   "cell_type": "markdown",
   "metadata": {},
   "source": [
    "# Tic Tac Toe"
   ]
  },
  {
   "cell_type": "code",
   "execution_count": null,
   "metadata": {
    "collapsed": false
   },
   "outputs": [],
   "source": [
    "def printBoard(m):\n",
    "    \n",
    "    index = 1\n",
    "    board = \"\"\n",
    "    board += \"\\n\"\n",
    "    for slot in m:\n",
    "        if index%3 == 1 and index != 1:\n",
    "            board += \"\\n________________\\n\\n\"\n",
    "        if index == 2 or index == 5 or index == 8:\n",
    "            board += \" | \"\n",
    "            \n",
    "        board += \" \" + str(slot) + \" \"\n",
    "        \n",
    "        if index == 2 or index == 5 or index == 8:\n",
    "            board += \" | \"\n",
    "        index += 1\n",
    "    board += \"\\n\"\n",
    "    print(board)"
   ]
  },
  {
   "cell_type": "code",
   "execution_count": null,
   "metadata": {
    "collapsed": true
   },
   "outputs": [],
   "source": [
    "def makeMove(player, position, matrix):\n",
    "    legit = False\n",
    "    while(not legit):\n",
    "        if player == 0 and position < 9:\n",
    "            if matrix[position].isdigit():\n",
    "                matrix[position] = 'X'\n",
    "                legit = True\n",
    "            else:\n",
    "                print('Player 1, that is invalid')\n",
    "                position =  int(input(\"Please input a valid and available position\"))\n",
    "        elif player == 0 and position >= 9:\n",
    "            print('Player 1, that is invalid')\n",
    "            position = int(input(\"Please input a valid and available position\"))\n",
    "        \n",
    "        elif player == 1 and position < 9:\n",
    "            if matrix[position].isdigit():\n",
    "                matrix[position] = 'O'\n",
    "                legit = True\n",
    "            else:\n",
    "                print('Player 2, that is invalid')\n",
    "                position = int(input(\"Please input a valid and available position\"))\n",
    "        elif player == 1 and position >= 9:\n",
    "            print('Player 2, that is invalid')\n",
    "            position =  int(input(\"Please input a valid and available position\"))\n",
    "    return matrix\n",
    "\n",
    "def checkWin(matrix, mark):\n",
    "    for space in matrix:\n",
    "        if space == mark\n",
    "    pass\n",
    "            "
   ]
  },
  {
   "cell_type": "code",
   "execution_count": null,
   "metadata": {
    "collapsed": false
   },
   "outputs": [],
   "source": [
    "def tictactoe():\n",
    "    print(\"Greetings Players! Enter the number of your desired location\")\n",
    "    \n",
    "    matrix = [str(_) for _ in range(9)]\n",
    "    printBoard(matrix)\n",
    "\n",
    "    iterator = 0\n",
    "    for x in range(9):\n",
    "        if x%2 == 0:\n",
    "            coord = int(input(\"Player 1, choose your location: \"))\n",
    "            matrix = makeMove(0, coord, matrix)\n",
    "        else:\n",
    "            coord = int(input(\"Player 2, choose your location: \"))\n",
    "            matrix = makeMove(1, coord, matrix)\n",
    "        clear_output()\n",
    "        printBoard(matrix)\n",
    "        \n"
   ]
  },
  {
   "cell_type": "code",
   "execution_count": null,
   "metadata": {
    "collapsed": false
   },
   "outputs": [],
   "source": [
    "from IPython.display import clear_output\n",
    "\n",
    "help(clear_output)"
   ]
  },
  {
   "cell_type": "code",
   "execution_count": null,
   "metadata": {
    "collapsed": false
   },
   "outputs": [],
   "source": [
    "tictactoe()"
   ]
  },
  {
   "cell_type": "code",
   "execution_count": null,
   "metadata": {
    "collapsed": true
   },
   "outputs": [],
   "source": []
  }
 ],
 "metadata": {
  "kernelspec": {
   "display_name": "Python 3",
   "language": "python",
   "name": "python3"
  },
  "language_info": {
   "codemirror_mode": {
    "name": "ipython",
    "version": 3
   },
   "file_extension": ".py",
   "mimetype": "text/x-python",
   "name": "python",
   "nbconvert_exporter": "python",
   "pygments_lexer": "ipython3",
   "version": "3.5.0"
  }
 },
 "nbformat": 4,
 "nbformat_minor": 0
}
