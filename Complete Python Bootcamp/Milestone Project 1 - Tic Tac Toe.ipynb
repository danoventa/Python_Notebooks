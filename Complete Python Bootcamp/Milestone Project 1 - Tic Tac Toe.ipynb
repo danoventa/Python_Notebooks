{
 "cells": [
  {
   "cell_type": "markdown",
   "metadata": {},
   "source": [
    "# Tic Tac Toe"
   ]
  },
  {
   "cell_type": "code",
   "execution_count": 33,
   "metadata": {
    "collapsed": false
   },
   "outputs": [
    {
     "name": "stdout",
     "output_type": "stream",
     "text": [
      "Greetings Players! Enter the number of your desired location\n",
      "\n",
      " 0  |  1  |  2 \n",
      "________________\n",
      "\n",
      " 3  |  4  |  5 \n",
      "________________\n",
      "\n",
      " 6  |  7  |  8 \n",
      "\n",
      "Player 1, choose your location: 1\n",
      "\n",
      " 0  |  X  |  2 \n",
      "________________\n",
      "\n",
      " 3  |  4  |  5 \n",
      "________________\n",
      "\n",
      " 6  |  7  |  8 \n",
      "\n",
      "Player 2, choose your location: 2\n",
      "\n",
      " 0  |  X  |  O \n",
      "________________\n",
      "\n",
      " 3  |  4  |  5 \n",
      "________________\n",
      "\n",
      " 6  |  7  |  8 \n",
      "\n",
      "Player 1, choose your location: 3\n",
      "\n",
      " 0  |  X  |  O \n",
      "________________\n",
      "\n",
      " X  |  4  |  5 \n",
      "________________\n",
      "\n",
      " 6  |  7  |  8 \n",
      "\n",
      "Player 2, choose your location: 4\n",
      "\n",
      " 0  |  X  |  O \n",
      "________________\n",
      "\n",
      " X  |  O  |  5 \n",
      "________________\n",
      "\n",
      " 6  |  7  |  8 \n",
      "\n",
      "Player 1, choose your location: 5\n",
      "\n",
      " 0  |  X  |  O \n",
      "________________\n",
      "\n",
      " X  |  O  |  X \n",
      "________________\n",
      "\n",
      " 6  |  7  |  8 \n",
      "\n",
      "Player 2, choose your location: 6\n",
      "\n",
      " 0  |  X  |  O \n",
      "________________\n",
      "\n",
      " X  |  O  |  X \n",
      "________________\n",
      "\n",
      " O  |  7  |  8 \n",
      "\n",
      "Player 1, choose your location: 7\n",
      "\n",
      " 0  |  X  |  O \n",
      "________________\n",
      "\n",
      " X  |  O  |  X \n",
      "________________\n",
      "\n",
      " O  |  X  |  8 \n",
      "\n",
      "Player 2, choose your location: 8\n",
      "\n",
      " 0  |  X  |  O \n",
      "________________\n",
      "\n",
      " X  |  O  |  X \n",
      "________________\n",
      "\n",
      " O  |  X  |  O \n",
      "\n",
      "Player 1, choose your location: \n"
     ]
    },
    {
     "ename": "ValueError",
     "evalue": "invalid literal for int() with base 10: ''",
     "output_type": "error",
     "traceback": [
      "\u001b[0;31m---------------------------------------------------------------------------\u001b[0m",
      "\u001b[0;31mValueError\u001b[0m                                Traceback (most recent call last)",
      "\u001b[0;32m<ipython-input-33-05d996d65b2a>\u001b[0m in \u001b[0;36m<module>\u001b[0;34m()\u001b[0m\n\u001b[1;32m     47\u001b[0m \u001b[0;34m\u001b[0m\u001b[0m\n\u001b[1;32m     48\u001b[0m \u001b[0;34m\u001b[0m\u001b[0m\n\u001b[0;32m---> 49\u001b[0;31m \u001b[0mtictactoe\u001b[0m\u001b[0;34m(\u001b[0m\u001b[0;34m)\u001b[0m\u001b[0;34m\u001b[0m\u001b[0m\n\u001b[0m",
      "\u001b[0;32m<ipython-input-33-05d996d65b2a>\u001b[0m in \u001b[0;36mtictactoe\u001b[0;34m()\u001b[0m\n\u001b[1;32m     29\u001b[0m     \u001b[0;32mfor\u001b[0m \u001b[0mx\u001b[0m \u001b[0;32min\u001b[0m \u001b[0mrange\u001b[0m\u001b[0;34m(\u001b[0m\u001b[0;36m9\u001b[0m\u001b[0;34m)\u001b[0m\u001b[0;34m:\u001b[0m\u001b[0;34m\u001b[0m\u001b[0m\n\u001b[1;32m     30\u001b[0m         \u001b[0;32mif\u001b[0m \u001b[0mx\u001b[0m\u001b[0;34m%\u001b[0m\u001b[0;36m2\u001b[0m \u001b[0;34m==\u001b[0m \u001b[0;36m0\u001b[0m\u001b[0;34m:\u001b[0m\u001b[0;34m\u001b[0m\u001b[0m\n\u001b[0;32m---> 31\u001b[0;31m             \u001b[0mcoord\u001b[0m \u001b[0;34m=\u001b[0m \u001b[0mint\u001b[0m\u001b[0;34m(\u001b[0m\u001b[0minput\u001b[0m\u001b[0;34m(\u001b[0m\u001b[0;34m\"Player 1, choose your location: \"\u001b[0m\u001b[0;34m)\u001b[0m\u001b[0;34m)\u001b[0m\u001b[0;34m\u001b[0m\u001b[0m\n\u001b[0m\u001b[1;32m     32\u001b[0m             \u001b[0mmatrix\u001b[0m\u001b[0;34m[\u001b[0m\u001b[0mcoord\u001b[0m\u001b[0;34m]\u001b[0m \u001b[0;34m=\u001b[0m \u001b[0;34m'X'\u001b[0m\u001b[0;34m\u001b[0m\u001b[0m\n\u001b[1;32m     33\u001b[0m         \u001b[0;32melse\u001b[0m\u001b[0;34m:\u001b[0m\u001b[0;34m\u001b[0m\u001b[0m\n",
      "\u001b[0;31mValueError\u001b[0m: invalid literal for int() with base 10: ''"
     ]
    }
   ],
   "source": [
    "def printBoard(m):\n",
    "    \n",
    "    index = 1\n",
    "    board = \"\"\n",
    "    board += \"\\n\"\n",
    "    for slot in m:\n",
    "        if index%3 == 1 and index != 1:\n",
    "            board += \"\\n________________\\n\\n\"\n",
    "        if index == 2 or index == 5 or index == 8:\n",
    "            board += \" | \"\n",
    "            \n",
    "        board += \" \" + str(slot) + \" \"\n",
    "        \n",
    "        if index == 2 or index == 5 or index == 8:\n",
    "            board += \" | \"\n",
    "        index += 1\n",
    "    board += \"\\n\"\n",
    "    print(board)\n",
    "\n",
    "def tictactoe():\n",
    "    print(\"Greetings Players! Enter the number of your desired location\")\n",
    "    \n",
    "    matrix = [str(_) for _ in range(9)]\n",
    "    printBoard(matrix)\n",
    "    \n",
    "    \n",
    "    \n",
    "    iterator = 0\n",
    "    for x in range(9):\n",
    "        if x%2 == 0:\n",
    "            coord = int(input(\"Player 1, choose your location: \"))\n",
    "            matrix[coord] = 'X'\n",
    "        else:\n",
    "            coord = int(input(\"Player 2, choose your location: \"))\n",
    "            matrix[coord] = 'O'\n",
    "        printBoard(matrix)\n",
    "    \n",
    "def makeMove(player, position, matrix):\n",
    "    pass\n",
    "    \n",
    "def isLegit(position, matrix):\n",
    "    if position in range(9):\n",
    "        print(\"OK\")\n",
    "    else:\n",
    "        print(\"Not OK\")\n",
    "    pass\n",
    "\n",
    "def check_winner(matrix):\n",
    "    pass\n",
    "\n",
    "\n",
    "\n",
    "tictactoe()"
   ]
  },
  {
   "cell_type": "code",
   "execution_count": 11,
   "metadata": {
    "collapsed": true
   },
   "outputs": [],
   "source": [
    "strings = \"str\""
   ]
  },
  {
   "cell_type": "code",
   "execution_count": 27,
   "metadata": {
    "collapsed": false
   },
   "outputs": [
    {
     "data": {
      "text/plain": [
       "0"
      ]
     },
     "execution_count": 27,
     "metadata": {},
     "output_type": "execute_result"
    }
   ],
   "source": [
    "2%2"
   ]
  },
  {
   "cell_type": "code",
   "execution_count": null,
   "metadata": {
    "collapsed": true
   },
   "outputs": [],
   "source": []
  }
 ],
 "metadata": {
  "kernelspec": {
   "display_name": "Python 3",
   "language": "python",
   "name": "python3"
  },
  "language_info": {
   "codemirror_mode": {
    "name": "ipython",
    "version": 3
   },
   "file_extension": ".py",
   "mimetype": "text/x-python",
   "name": "python",
   "nbconvert_exporter": "python",
   "pygments_lexer": "ipython3",
   "version": "3.5.0"
  }
 },
 "nbformat": 4,
 "nbformat_minor": 0
}
