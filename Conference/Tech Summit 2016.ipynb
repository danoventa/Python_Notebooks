{
 "cells": [
  {
   "cell_type": "markdown",
   "metadata": {},
   "source": [
    "## Agile Scaling up\n",
    "\n",
    "<b> Seapine: Scott Allen</b>\n",
    "Product Owners are using microsoft office?\n",
    " \n",
    "<br>\n",
    "\n",
    "<b> Task Board? </b><br>\n",
    "Columns for the feature requests and feature columns...\n",
    "    - each feature and oslution. \n",
    "    - columns for requirements, for next product cycle\n",
    "    \n",
    "<b> Roadmap Documents </b> <br>\n",
    "Template of information... and organize the features.\n",
    "    - put them in general classifications. \n",
    "    - Can move information closer to development. \n",
    "    \n",
    "<b> Traditional Sprint and tasks </b> <br>\n",
    "Where are we in the engineering department. Tasks instead of features. \n",
    " \n",
    "<b> Velocity charts taht actually work </b> <br>\n"
   ]
  },
  {
   "cell_type": "markdown",
   "metadata": {},
   "source": [
    "## Design in Place\n",
    "\n",
    "<b> Datavoke: Paul Weiss </b> <br>\n",
    "End Users don't know what to do. \n",
    "    - I have a problem...\n",
    "\n",
    "How do we focus on how to solve the problem?\n",
    "    - Face it, ebrace it: Requirements are going to change. \n",
    "    "
   ]
  },
  {
   "cell_type": "markdown",
   "metadata": {},
   "source": [
    "## Vonage Business\n",
    "\n",
    "<b> Vonage </b> Guy <br>\n",
    "\n",
    "<b> Nifty </b> <br>\n",
    "Able to utilize the same phone, and use different numbers. \n",
    "    - Use an app, and connect for business calls, and such. \n",
    "    - Aside from the phone, can also be done through the compouter. \n",
    "    \n"
   ]
  },
  {
   "cell_type": "code",
   "execution_count": null,
   "metadata": {
    "collapsed": true
   },
   "outputs": [],
   "source": []
  }
 ],
 "metadata": {
  "kernelspec": {
   "display_name": "Python 3",
   "language": "python",
   "name": "python3"
  },
  "language_info": {
   "codemirror_mode": {
    "name": "ipython",
    "version": 3
   },
   "file_extension": ".py",
   "mimetype": "text/x-python",
   "name": "python",
   "nbconvert_exporter": "python",
   "pygments_lexer": "ipython3",
   "version": "3.5.0"
  }
 },
 "nbformat": 4,
 "nbformat_minor": 0
}
