{
 "cells": [
  {
   "cell_type": "code",
   "execution_count": 1,
   "metadata": {
    "collapsed": true
   },
   "outputs": [],
   "source": [
    "class Property:\n",
    "    def __init__(self, square_feet='', beds='',\n",
    "            baths='', **kwargs): # this was added for the multiple inheritance\n",
    "        super().__init__(**kwargs) # incase not the last call in the inheritance chain\n",
    "        self.square_feet = square_feet\n",
    "        self.num_bedrooms = beds\n",
    "        self.num_baths = baths\n",
    "\n",
    "    def display(self):\n",
    "        print(\"PROPERTY DETAILS\")\n",
    "        print(\"================\")\n",
    "        print(\"square footage: {}\".format(self.square_feet))\n",
    "        print(\"bedrooms: {}\".format(self.num_bedrooms))\n",
    "        print(\"bathrooms: {}\".format(self.num_baths))\n",
    "        print()\n",
    "\n",
    "    def prompt_init():\n",
    "        return dict(square_feet=input(\"Enter the square feet: \"),\n",
    "                beds=input(\"Enter number of bedrooms: \"),\n",
    "                baths=input(\"Enter number of baths: \"))\n",
    "    prompt_init = staticmethod(prompt_init)"
   ]
  },
  {
   "cell_type": "code",
   "execution_count": 16,
   "metadata": {
    "collapsed": true
   },
   "outputs": [],
   "source": [
    "class Apartment(Property): # Apartment class extends Property\n",
    "    valid_laundries = (\"coin\", \"ensuite\", \"none\")\n",
    "    valid_balconies = (\"yes\", \"no\", \"solarium\")\n",
    "\n",
    "    def __init__(self, balcony='', laundry='', **kwargs):\n",
    "        super().__init__(**kwargs)\n",
    "        self.balcony = balcony\n",
    "        self.laundry = laundry\n",
    "\n",
    "    def display(self):\n",
    "        super().display()\n",
    "        print(\"APARTMENT DETAILS\")\n",
    "        print(\"laundry: %s\" % self.laundry)\n",
    "        print(\"has balcony: %s\" % self.balcony)\n",
    "\n",
    "    def prompt_init():\n",
    "        parent_init = Property.prompt_init()\n",
    "        laundry = ''\n",
    "        while laundry.lower() not in \\\n",
    "                Apartment.valid_laundries:\n",
    "            laundry = input(\"What laundry facilities does \"\n",
    "                    \"the property have? ({})\".format(\n",
    "                    \", \".join(Apartment.valid_laundries)))\n",
    "        balcony = ''\n",
    "        while balcony.lower() not in \\\n",
    "                Apartment.valid_balconies:\n",
    "            balcony = input(\n",
    "                \"Does the property have a balcony? \"\n",
    "                \"({})\".format(\n",
    "                \", \".join(Apartment.valid_balconies)))\n",
    "        parent_init.update({\n",
    "            \"laundry\": laundry,\n",
    "            \"balcony\": balcony\n",
    "        })\n",
    "        return parent_init\n",
    "    prompt_init = staticmethod(prompt_init)"
   ]
  },
  {
   "cell_type": "code",
   "execution_count": 2,
   "metadata": {
    "collapsed": true
   },
   "outputs": [],
   "source": [
    "def get_valid_input(input_string, valid_options):\n",
    "    input_string += \" ({}) \".format(\", \".join(valid_options))\n",
    "    response = input(input_string)\n",
    "    while response.lower() not in valid_options:\n",
    "        response = input(input_string)\n",
    "    return response"
   ]
  },
  {
   "cell_type": "code",
   "execution_count": 3,
   "metadata": {
    "collapsed": false
   },
   "outputs": [
    {
     "name": "stdout",
     "output_type": "stream",
     "text": [
      "what laundry? (coin, ensuite, none) Hi\n",
      "what laundry? (coin, ensuite, none) hi\n",
      "what laundry? (coin, ensuite, none) none\n"
     ]
    },
    {
     "data": {
      "text/plain": [
       "'none'"
      ]
     },
     "execution_count": 3,
     "metadata": {},
     "output_type": "execute_result"
    }
   ],
   "source": [
    "get_valid_input(\"what laundry?\", (\"coin\", \"ensuite\", \"none\"))\n"
   ]
  },
  {
   "cell_type": "code",
   "execution_count": 4,
   "metadata": {
    "collapsed": true
   },
   "outputs": [],
   "source": [
    "class House(Property): # Extends Property\n",
    "    valid_garage = (\"attached\", \"detached\", \"none\")\n",
    "    valid_fenced = (\"yes\", \"no\")\n",
    "\n",
    "    def __init__(self, num_stories='',\n",
    "            garage='', fenced='', **kwargs):\n",
    "        super().__init__(**kwargs)\n",
    "        self.garage = garage\n",
    "        self.fenced = fenced\n",
    "        self.num_stories = num_stories\n",
    "\n",
    "    def display(self):\n",
    "        super().display()\n",
    "        print(\"HOUSE DETAILS\")\n",
    "        print(\"# of stories: {}\".format(self.num_stories))\n",
    "        print(\"garage: {}\".format(self.garage))\n",
    "        print(\"fenced yard: {}\".format(self.fenced))\n",
    "\n",
    "\n",
    "    def prompt_init():\n",
    "        parent_init = Property.prompt_init()\n",
    "        fenced = get_valid_input(\"Is the yard fenced? \",\n",
    "                    House.valid_fenced)\n",
    "        garage = get_valid_input(\"Is there a garage? \",\n",
    "                House.valid_garage)\n",
    "        num_stories = input(\"How many stories? \")\n",
    "\n",
    "        parent_init.update({\n",
    "            \"fenced\": fenced,\n",
    "            \"garage\": garage,\n",
    "            \"num_stories\": num_stories\n",
    "        })\n",
    "        return parent_init\n",
    "    prompt_init = staticmethod(prompt_init)"
   ]
  },
  {
   "cell_type": "code",
   "execution_count": 7,
   "metadata": {
    "collapsed": true
   },
   "outputs": [],
   "source": [
    "class Purchase:\n",
    "    def __init__(self, price='', taxes='', **kwargs):\n",
    "        super().__init__(**kwargs)\n",
    "        self.price = price\n",
    "        self.taxes = taxes\n",
    "\n",
    "    def display(self):\n",
    "        super().display()\n",
    "        print(\"PURCHASE DETAILS\")\n",
    "        print(\"selling price: {}\".format(self.price))\n",
    "        print(\"estimated taxes: {}\".format(self.taxes))\n",
    "\n",
    "    def prompt_init():\n",
    "        return dict(\n",
    "            price=input(\"What is the selling price? \"),\n",
    "            taxes=input(\"What are the estimated taxes? \"))\n",
    "    prompt_init = staticmethod(prompt_init)\n",
    "\n",
    "class Rental:\n",
    "    def __init__(self, furnished='', utilities='',\n",
    "            rent='', **kwargs):\n",
    "        super().__init__(**kwargs)\n",
    "        self.furnished = furnished\n",
    "        self.rent = rent\n",
    "        self.utilities = utilities\n",
    "\n",
    "    def display(self):\n",
    "        super().display()\n",
    "        print(\"RENTAL DETAILS\")\n",
    "        print(\"rent: {}\".format(self.rent))\n",
    "        print(\"estimated utilities: {}\".format(\n",
    "            self.utilities))\n",
    "        print(\"furnished: {}\".format(self.furnished))\n",
    "\n",
    "    def prompt_init():\n",
    "        return dict(\n",
    "            rent=input(\"What is the monthly rent? \"),\n",
    "            utilities=input(\n",
    "                \"What are the estimated utilities? \"),\n",
    "            furnished = get_valid_input(\n",
    "                \"Is the property furnished? \",\n",
    "                    (\"yes\", \"no\")))\n",
    "    prompt_init = staticmethod(prompt_init)"
   ]
  },
  {
   "cell_type": "code",
   "execution_count": 8,
   "metadata": {
    "collapsed": true
   },
   "outputs": [],
   "source": [
    "class HouseRental(Rental, House):\n",
    "    def prompt_init():\n",
    "        init = House.prompt_init()\n",
    "        init.update(Rental.prompt_init())\n",
    "        return init\n",
    "    prompt_init = staticmethod(prompt_init)"
   ]
  },
  {
   "cell_type": "code",
   "execution_count": 9,
   "metadata": {
    "collapsed": false
   },
   "outputs": [
    {
     "name": "stdout",
     "output_type": "stream",
     "text": [
      "Enter the square feet: 1\n",
      "Enter number of bedrooms: 2\n",
      "Enter number of baths: 3\n",
      "Is the yard fenced?  (yes, no) no\n",
      "Is there a garage?  (attached, detached, none) none\n",
      "How many stories? 8\n",
      "What is the monthly rent? 800\n",
      "What are the estimated utilities? 100\n",
      "Is the property furnished?  (yes, no) yes\n"
     ]
    }
   ],
   "source": [
    "init = HouseRental.prompt_init()"
   ]
  },
  {
   "cell_type": "code",
   "execution_count": 12,
   "metadata": {
    "collapsed": true
   },
   "outputs": [],
   "source": [
    "house = HouseRental(**init)"
   ]
  },
  {
   "cell_type": "code",
   "execution_count": 14,
   "metadata": {
    "collapsed": false
   },
   "outputs": [
    {
     "name": "stdout",
     "output_type": "stream",
     "text": [
      "PROPERTY DETAILS\n",
      "================\n",
      "square footage: 1\n",
      "bedrooms: 2\n",
      "bathrooms: 3\n",
      "\n",
      "HOUSE DETAILS\n",
      "# of stories: 8\n",
      "garage: none\n",
      "fenced yard: no\n",
      "RENTAL DETAILS\n",
      "rent: 800\n",
      "estimated utilities: 100\n",
      "furnished: yes\n"
     ]
    }
   ],
   "source": [
    "house.display()"
   ]
  },
  {
   "cell_type": "code",
   "execution_count": 17,
   "metadata": {
    "collapsed": false
   },
   "outputs": [],
   "source": [
    "class ApartmentRental(Rental, Apartment):\n",
    "    def prompt_init():\n",
    "        init = Apartment.prompt_init()\n",
    "        init.update(Rental.prompt_init())\n",
    "        return init\n",
    "    prompt_init = staticmethod(prompt_init)\n",
    "\n",
    "class ApartmentPurchase(Purchase, Apartment):\n",
    "    def prompt_init():\n",
    "        init = Apartment.prompt_init()\n",
    "        init.update(Purchase.prompt_init())\n",
    "        return init\n",
    "    prompt_init = staticmethod(prompt_init)\n",
    "\n",
    "class HousePurchase(Purchase, House):\n",
    "    def prompt_init():\n",
    "        init = House.prompt_init()\n",
    "        init.update(Purchase.prompt_init())\n",
    "        return init\n",
    "    prompt_init = staticmethod(prompt_init)"
   ]
  },
  {
   "cell_type": "code",
   "execution_count": 30,
   "metadata": {
    "collapsed": true
   },
   "outputs": [],
   "source": [
    "class Agent:\n",
    "    type_map = {\n",
    "        (\"house\", \"rental\"): HouseRental,\n",
    "        (\"house\", \"purchase\"): HousePurchase,\n",
    "        (\"apartment\", \"rental\"): ApartmentRental,\n",
    "        (\"apartment\", \"purchase\"): ApartmentPurchase\n",
    "        }\n",
    "    \n",
    "    def __init__(self):\n",
    "        self.property_list = []\n",
    "\n",
    "    def display_properties(self):\n",
    "        for property in self.property_list:\n",
    "            property.display()\n",
    "            \n",
    "    def add_property(self):\n",
    "        property_type = get_valid_input(\n",
    "                \"What type of property? \",\n",
    "                (\"house\", \"apartment\")).lower()\n",
    "        payment_type = get_valid_input(\n",
    "                \"What payment type? \",\n",
    "                (\"purchase\", \"rental\")).lower()\n",
    "\n",
    "        PropertyClass = self.type_map[\n",
    "            (property_type, payment_type)]\n",
    "        init_args = PropertyClass.prompt_init()\n",
    "        self.property_list.append(PropertyClass(**init_args))"
   ]
  },
  {
   "cell_type": "code",
   "execution_count": 19,
   "metadata": {
    "collapsed": true
   },
   "outputs": [],
   "source": []
  },
  {
   "cell_type": "code",
   "execution_count": 20,
   "metadata": {
    "collapsed": true
   },
   "outputs": [],
   "source": []
  },
  {
   "cell_type": "code",
   "execution_count": 31,
   "metadata": {
    "collapsed": false
   },
   "outputs": [],
   "source": [
    "agent = Agent()"
   ]
  },
  {
   "cell_type": "code",
   "execution_count": null,
   "metadata": {
    "collapsed": false
   },
   "outputs": [
    {
     "name": "stdout",
     "output_type": "stream",
     "text": [
      "What type of property?  (house, apartment) apartment\n",
      "What payment type?  (purchase, rental) rental\n",
      "Enter the square feet: 1\n",
      "Enter number of bedrooms: 2\n",
      "Enter number of baths: 3\n",
      "What laundry facilities does the property have? (coin, ensuite, none)none\n"
     ]
    }
   ],
   "source": [
    "agent.add_property()"
   ]
  },
  {
   "cell_type": "code",
   "execution_count": null,
   "metadata": {
    "collapsed": true
   },
   "outputs": [],
   "source": []
  }
 ],
 "metadata": {
  "kernelspec": {
   "display_name": "Python 3",
   "language": "python",
   "name": "python3"
  },
  "language_info": {
   "codemirror_mode": {
    "name": "ipython",
    "version": 3
   },
   "file_extension": ".py",
   "mimetype": "text/x-python",
   "name": "python",
   "nbconvert_exporter": "python",
   "pygments_lexer": "ipython3",
   "version": "3.5.0"
  }
 },
 "nbformat": 4,
 "nbformat_minor": 0
}
