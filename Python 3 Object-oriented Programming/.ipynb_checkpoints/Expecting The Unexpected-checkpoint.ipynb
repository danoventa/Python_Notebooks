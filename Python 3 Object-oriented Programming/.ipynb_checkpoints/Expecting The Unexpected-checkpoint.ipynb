{
 "cells": [
  {
   "cell_type": "code",
   "execution_count": 1,
   "metadata": {
    "collapsed": true
   },
   "outputs": [],
   "source": [
    "class Property:\n",
    "    def __init__(self, square_feet='', beds='',\n",
    "            baths='', **kwargs): # this was added for the multiple inheritance\n",
    "        super().__init__(**kwargs) # incase not the last call in the inheritance chain\n",
    "        self.square_feet = square_feet\n",
    "        self.num_bedrooms = beds\n",
    "        self.num_baths = baths\n",
    "\n",
    "    def display(self):\n",
    "        print(\"PROPERTY DETAILS\")\n",
    "        print(\"================\")\n",
    "        print(\"square footage: {}\".format(self.square_feet))\n",
    "        print(\"bedrooms: {}\".format(self.num_bedrooms))\n",
    "        print(\"bathrooms: {}\".format(self.num_baths))\n",
    "        print()\n",
    "\n",
    "    def prompt_init():\n",
    "        return dict(square_feet=input(\"Enter the square feet: \"),\n",
    "                beds=input(\"Enter number of bedrooms: \"),\n",
    "                baths=input(\"Enter number of baths: \"))\n",
    "    prompt_init = staticmethod(prompt_init)"
   ]
  },
  {
   "cell_type": "code",
   "execution_count": null,
   "metadata": {
    "collapsed": true
   },
   "outputs": [],
   "source": []
  }
 ],
 "metadata": {
  "kernelspec": {
   "display_name": "Python 3",
   "language": "python",
   "name": "python3"
  },
  "language_info": {
   "codemirror_mode": {
    "name": "ipython",
    "version": 3
   },
   "file_extension": ".py",
   "mimetype": "text/x-python",
   "name": "python",
   "nbconvert_exporter": "python",
   "pygments_lexer": "ipython3",
   "version": "3.5.0"
  }
 },
 "nbformat": 4,
 "nbformat_minor": 0
}
