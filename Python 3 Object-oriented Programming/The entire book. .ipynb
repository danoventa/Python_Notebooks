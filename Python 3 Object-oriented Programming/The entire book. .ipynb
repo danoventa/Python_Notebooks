{
 "cells": [
  {
   "cell_type": "code",
   "execution_count": 2,
   "metadata": {
    "collapsed": false
   },
   "outputs": [
    {
     "name": "stdout",
     "output_type": "stream",
     "text": [
      "Automatic pdb calling has been turned ON\n"
     ]
    }
   ],
   "source": [
    "%pdb\n"
   ]
  },
  {
   "cell_type": "code",
   "execution_count": 1,
   "metadata": {
    "collapsed": false
   },
   "outputs": [
    {
     "name": "stdout",
     "output_type": "stream",
     "text": [
      "Hello\n"
     ]
    }
   ],
   "source": [
    "print(\"Hello\")"
   ]
  },
  {
   "cell_type": "code",
   "execution_count": 15,
   "metadata": {
    "collapsed": false
   },
   "outputs": [],
   "source": [
    "class BaseClass:\n",
    "    num_base_calls = 0\n",
    "    def call_me(self):\n",
    "        print('calling method on base class')\n",
    "        self.num_base_calls += 1\n",
    "        \n",
    "class LeftSubclass(BaseClass):\n",
    "    num_left_calls = 0\n",
    "    def calls_me(self):\n",
    "        super().call_me()\n",
    "        BaseClass.call_me(self)\n",
    "        print(\"Calling method on Left Subclass\")\n",
    "        self.num_left_calls += 1\n",
    "    \n",
    "class RightSubclass(BaseClass):\n",
    "    num_right_calls = 0\n",
    "    def call_me(self):\n",
    "        super().call_me()\n",
    "        BaseClass.call_me(self)\n",
    "        print(\"Calling method on Right subclass\")\n",
    "        self.num_right_calls += 1\n",
    "\n",
    "class SubClass(LeftSubclass, RightSubclass):\n",
    "    num_sub_calls = 0\n",
    "    def call_me(self):\n",
    "        super().call_me()\n",
    "        LeftSubclass.call_me(self)\n",
    "        RightSubclass.call_me(self)\n",
    "        print(\"Calling method on Subclas:\")\n",
    "        self.num_sub_calls += 1"
   ]
  },
  {
   "cell_type": "code",
   "execution_count": 23,
   "metadata": {
    "collapsed": false
   },
   "outputs": [
    {
     "name": "stdout",
     "output_type": "stream",
     "text": [
      "calling method on base class\n",
      "calling method on base class\n",
      "Calling method on Right subclass\n",
      "calling method on base class\n",
      "calling method on base class\n",
      "calling method on base class\n",
      "Calling method on Right subclass\n",
      "Calling method on Subclas:\n"
     ]
    }
   ],
   "source": [
    "s = SubClass()\n",
    "s.call_me()"
   ]
  },
  {
   "cell_type": "code",
   "execution_count": 21,
   "metadata": {
    "collapsed": false
   },
   "outputs": [
    {
     "name": "stdout",
     "output_type": "stream",
     "text": [
      "1 0 2 5\n"
     ]
    }
   ],
   "source": [
    "print(s.num_sub_calls, s.num_left_calls, s.num_right_calls, s.num_base_calls)"
   ]
  },
  {
   "cell_type": "code",
   "execution_count": 20,
   "metadata": {
    "collapsed": false
   },
   "outputs": [],
   "source": [
    "class Contact:\n",
    "    all_contacts = []\n",
    "    \n",
    "    def __init__(self, name='', email='', **kwargs):\n",
    "        super().__init__(**kwargs)\n",
    "        self.name = name\n",
    "        self.email = email\n",
    "        self.all_contacts.append(self)\n",
    "        \n",
    "class AddressHolder:\n",
    "    def __init__(self, street='', city='', state='', code='', **kwargs):\n",
    "        super().__init__(**kwargs)\n",
    "        self.street = street\n",
    "        self.city = city\n",
    "        slef.state = state\n",
    "        self.code = code\n",
    "\n",
    "class Friend(Contact, AddressHolder):\n",
    "    def __init__(self, phone='', **kwargs):\n",
    "        super().__init__(**kwargs)\n",
    "        self.phone = phone"
   ]
  },
  {
   "cell_type": "markdown",
   "metadata": {},
   "source": [
    "# Polymorphism\n",
    "\n"
   ]
  },
  {
   "cell_type": "code",
   "execution_count": null,
   "metadata": {
    "collapsed": true
   },
   "outputs": [],
   "source": []
  }
 ],
 "metadata": {
  "kernelspec": {
   "display_name": "Python 3",
   "language": "python",
   "name": "python3"
  },
  "language_info": {
   "codemirror_mode": {
    "name": "ipython",
    "version": 3
   },
   "file_extension": ".py",
   "mimetype": "text/x-python",
   "name": "python",
   "nbconvert_exporter": "python",
   "pygments_lexer": "ipython3",
   "version": "3.5.1"
  }
 },
 "nbformat": 4,
 "nbformat_minor": 0
}
