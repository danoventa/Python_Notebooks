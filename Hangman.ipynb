{
 "cells": [
  {
   "cell_type": "code",
   "execution_count": 8,
   "metadata": {
    "collapsed": false
   },
   "outputs": [
    {
     "name": "stdout",
     "output_type": "stream",
     "text": [
      "I have word, you try to guess, if not you lose I win. \n",
      " You ready? If not too bad, you gonna be\n",
      "\n",
      "Word picked human, you gon'lose so bad. \n"
     ]
    }
   ],
   "source": [
    "class Hangman:\n",
    "    mysteryWord = \"\"\n",
    "    currentGuess = \"\"\n",
    "    previousGuess = []\n",
    "\n",
    "    maxTries = 6\n",
    "    currentTry = 1\n",
    "    dictionary = []\n",
    "    \n",
    "    def __init__(self):\n",
    "        words = open(\"words.txt\", 'r')\n",
    "        for line in words.readlines():\n",
    "            self.dictionary.append(line)\n",
    "        print(self.dictionary)\n",
    "\n",
    "class hangmanapplication:\n",
    "    print(\"I have word, you try to guess, if not you lose I win. \\n You ready? If not too bad, you gonna be\\n\")\n",
    "    print(\"Word picked human, you gon'lose so bad. \")\n",
    "    doYouWantToPlay = True\n",
    "    while doYouWantToPlay:\n",
    "        doYouWantToPlay = False\n",
    "        #while not game.GameOver():\n",
    "        #    pass\n",
    "        #print(\"\\nWanna go again? Type y if yes!\")\n",
    "        #doYouWantToPlay = (input() == \"y\")"
   ]
  },
  {
   "cell_type": "code",
   "execution_count": 1,
   "metadata": {
    "collapsed": false
   },
   "outputs": [
    {
     "name": "stdout",
     "output_type": "stream",
     "text": [
      "word0\n",
      "word1\n",
      "word2\n",
      "word3\n",
      "word4\n",
      "word5\n",
      "word6\n",
      "word7\n",
      "word8\n",
      "word9\n",
      "\n"
     ]
    }
   ],
   "source": [
    "file = open(\"words.txt\", \"w\")\n",
    "for x in range(10):\n",
    "    file.write('word' + str(x) + \"\\n\")\n",
    "file.close()\n",
    "\n",
    "newFile = open(\"words.txt\", \"r\")\n",
    "print(newFile.read())"
   ]
  },
  {
   "cell_type": "code",
   "execution_count": 9,
   "metadata": {
    "collapsed": false
   },
   "outputs": [
    {
     "name": "stdout",
     "output_type": "stream",
     "text": [
      "['word0\\n', 'word1\\n', 'word2\\n', 'word3\\n', 'word4\\n', 'word5\\n', 'word6\\n', 'word7\\n', 'word8\\n', 'word9\\n']\n"
     ]
    }
   ],
   "source": [
    "newThing = Hangman()"
   ]
  },
  {
   "cell_type": "code",
   "execution_count": null,
   "metadata": {
    "collapsed": true
   },
   "outputs": [],
   "source": []
  }
 ],
 "metadata": {
  "kernelspec": {
   "display_name": "Python 3",
   "language": "python",
   "name": "python3"
  },
  "language_info": {
   "codemirror_mode": {
    "name": "ipython",
    "version": 3
   },
   "file_extension": ".py",
   "mimetype": "text/x-python",
   "name": "python",
   "nbconvert_exporter": "python",
   "pygments_lexer": "ipython3",
   "version": "3.5.0"
  }
 },
 "nbformat": 4,
 "nbformat_minor": 0
}
