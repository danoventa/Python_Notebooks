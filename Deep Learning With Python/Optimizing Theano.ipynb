{
 "cells": [
  {
   "cell_type": "code",
   "execution_count": null,
   "metadata": {
    "collapsed": true
   },
   "outputs": [],
   "source": [
    "%matplotlib inline\n",
    "import numpy as np\n",
    "np.random.seed(123)\n",
    "\n",
    "import matplotlib.pyplot as plt\n",
    "\n",
    "import theano \n",
    "from theano import tensor as T, function\n",
    "\n",
    "from IPython import display\n",
    "import time"
   ]
  },
  {
   "cell_type": "code",
   "execution_count": null,
   "metadata": {
    "collapsed": true
   },
   "outputs": [],
   "source": [
    "noise_var = .5\n",
    "n_samples = 1000\n",
    "\n",
    "n = np.random.normal(0, noise_var, n_samples)\n",
    "x = np.arange(n_samples)\n",
    "x = (x-x.mean())/x.std()\n",
    "w, b = np.random.randn(2)\n",
    "\n",
    "d = w*x + b\n",
    "y = d+n"
   ]
  },
  {
   "cell_type": "code",
   "execution_count": null,
   "metadata": {
    "collapsed": false
   },
   "outputs": [],
   "source": [
    "plt.plot(x, y, \".\")\n",
    "plt.plot(x, d, '-r', linewidth=2.)\n",
    "plt.legend(('noisy observations', 'desired'))\n",
    "plt.title('input-output map')"
   ]
  },
  {
   "cell_type": "code",
   "execution_count": null,
   "metadata": {
    "collapsed": false
   },
   "outputs": [],
   "source": [
    "X, Y = T.vectors('input', 'desired')\n",
    "W = theano.shared(0.1)\n",
    "B = theano.shared(0.)\n",
    "Z = W*X + B\n",
    "Cost = ((Y-Z)**2).mean()\n",
    "params = [W, B]\n"
   ]
  },
  {
   "cell_type": "code",
   "execution_count": null,
   "metadata": {
    "collapsed": false
   },
   "outputs": [],
   "source": [
    "W.get_value()"
   ]
  },
  {
   "cell_type": "code",
   "execution_count": null,
   "metadata": {
    "collapsed": false
   },
   "outputs": [],
   "source": [
    "W"
   ]
  },
  {
   "cell_type": "code",
   "execution_count": null,
   "metadata": {
    "collapsed": true
   },
   "outputs": [],
   "source": [
    "updates = ((W, W*2), )\n",
    "double_w = function([], [], updates=updates)"
   ]
  },
  {
   "cell_type": "code",
   "execution_count": null,
   "metadata": {
    "collapsed": false
   },
   "outputs": [],
   "source": [
    "double_w()\n",
    "W.get_value()"
   ]
  },
  {
   "cell_type": "code",
   "execution_count": null,
   "metadata": {
    "collapsed": false
   },
   "outputs": [],
   "source": [
    "W"
   ]
  },
  {
   "cell_type": "code",
   "execution_count": null,
   "metadata": {
    "collapsed": false
   },
   "outputs": [],
   "source": [
    "lr = .1\n",
    "grads = [T.grad(Cost, p) for p in params]\n",
    "updates = [(p, p - lr*g) for p, g in zip(params, grads)]\n",
    "\n",
    "print(updates)"
   ]
  },
  {
   "cell_type": "code",
   "execution_count": null,
   "metadata": {
    "collapsed": true
   },
   "outputs": [],
   "source": [
    "train = function([X, Y], Cost, updates=updates)"
   ]
  },
  {
   "cell_type": "code",
   "execution_count": null,
   "metadata": {
    "collapsed": false
   },
   "outputs": [],
   "source": [
    "epochs = 30\n",
    "final_cost = []\n",
    "for i in range(epochs):\n",
    "    # for inp, out in zip(x, y):\n",
    "        final_cost.append(train(x, y))\n",
    "        \n",
    "        what, bhat = W.get_value(), B.get_value()\n",
    "        \n",
    "        plt.subplot(211)\n",
    "        plt.cla()\n",
    "        plt.title('cost: {}'.format(final_cost[-1]))\n",
    "        plt.plot(final_cost, linewidth=2.)\n",
    "        \n",
    "        plt.subplot(212)\n",
    "        plt.plot(w, b, \"*\", linewidth=2.)\n",
    "        plt.plot(what, bhat, \".r\", linewidth=2.)\n",
    "        plt.xlim([w-.5, w+.5])\n",
    "        plt.ylim([w-.5, w+.5])\n",
    "        plt.xlabel('w')\n",
    "        plt.ylabel('b')\n",
    "        \n",
    "        display.clear_output(wait=True)\n",
    "        display.display(plt.gcf())\n",
    "        time.sleep(1.0)"
   ]
  },
  {
   "cell_type": "code",
   "execution_count": null,
   "metadata": {
    "collapsed": false
   },
   "outputs": [],
   "source": [
    "plt.title('final result')\n",
    "plt.plot(x, y, '.')\n",
    "plt.plot(x, d, 'r', linewidth=2.)\n",
    "plt.plot(x, what*x + bhat, 'k', linewidth=2.)\n",
    "plt.legend(('noisy', 'desired', 'estimated'))"
   ]
  },
  {
   "cell_type": "code",
   "execution_count": null,
   "metadata": {
    "collapsed": true
   },
   "outputs": [],
   "source": []
  }
 ],
 "metadata": {
  "kernelspec": {
   "display_name": "Python 3",
   "language": "python",
   "name": "python3"
  },
  "language_info": {
   "codemirror_mode": {
    "name": "ipython",
    "version": 3
   },
   "file_extension": ".py",
   "mimetype": "text/x-python",
   "name": "python",
   "nbconvert_exporter": "python",
   "pygments_lexer": "ipython3",
   "version": "3.4.4"
  }
 },
 "nbformat": 4,
 "nbformat_minor": 0
}
