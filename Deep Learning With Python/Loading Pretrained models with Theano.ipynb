{
 "cells": [
  {
   "cell_type": "code",
   "execution_count": null,
   "metadata": {
    "collapsed": true
   },
   "outputs": [],
   "source": [
    "%matplotlib inline\n",
    "\n",
    "import numpy as np\n",
    "import theano\n",
    "from scipy.misc import imresize, imread\n",
    "import matplotlib.pyplot as plt"
   ]
  },
  {
   "cell_type": "code",
   "execution_count": null,
   "metadata": {
    "collapsed": false
   },
   "outputs": [],
   "source": [
    "w = np.random.randn(3, 2)\n",
    "W = theano.shared(np.zeros((3, 2)))\n",
    "print(W.get_value())\n",
    "W.set_value(w)\n",
    "print(W.get_value())"
   ]
  },
  {
   "cell_type": "code",
   "execution_count": null,
   "metadata": {
    "collapsed": false
   },
   "outputs": [],
   "source": [
    "!wget http://placekitten.com/200/287\n",
    "!wget https://upload.wikimedia.org/wikipedia/commons/f/fd/Siberian_Husky_Dog_5.jpg\n",
    "    \n",
    "cat = imresize(imread('287'), [231, 231])\n",
    "dog = imresize(imread('Siberian_Husky_Dog_5.jpg'), [231, 231])\n",
    "\n",
    "plt.subplot(121)\n",
    "plt.imshow(cat)\n",
    "plt.subplot(122)\n",
    "plt.imshow(dog)"
   ]
  },
  {
   "cell_type": "code",
   "execution_count": null,
   "metadata": {
    "collapsed": false
   },
   "outputs": [],
   "source": [
    "from sklearn_theano.feature_extraction import OverfeatClassifier\n",
    "clf = OverfeatClassifier(top_n=5)"
   ]
  },
  {
   "cell_type": "code",
   "execution_count": null,
   "metadata": {
    "collapsed": false
   },
   "outputs": [],
   "source": [
    "clf.predict(cat)"
   ]
  },
  {
   "cell_type": "code",
   "execution_count": null,
   "metadata": {
    "collapsed": false
   },
   "outputs": [],
   "source": [
    "clf.predict(dog)"
   ]
  },
  {
   "cell_type": "code",
   "execution_count": null,
   "metadata": {
    "collapsed": true
   },
   "outputs": [],
   "source": []
  }
 ],
 "metadata": {
  "kernelspec": {
   "display_name": "Python 3",
   "language": "python",
   "name": "python3"
  },
  "language_info": {
   "codemirror_mode": {
    "name": "ipython",
    "version": 3
   },
   "file_extension": ".py",
   "mimetype": "text/x-python",
   "name": "python",
   "nbconvert_exporter": "python",
   "pygments_lexer": "ipython3",
   "version": "3.4.4"
  }
 },
 "nbformat": 4,
 "nbformat_minor": 0
}
