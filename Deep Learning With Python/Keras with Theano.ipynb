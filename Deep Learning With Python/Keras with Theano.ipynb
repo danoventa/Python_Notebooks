{
 "cells": [
  {
   "cell_type": "code",
   "execution_count": null,
   "metadata": {
    "collapsed": false
   },
   "outputs": [],
   "source": [
    "%matplotlib inline\n",
    "\n",
    "import numpy as np\n",
    "from scipy.misc import ascent\n",
    "from theano import tensor as T, function\n",
    "import matplotlib.pyplot as plt\n",
    "\n",
    "from keras.models import Sequential\n",
    "from keras.layers.convolutional import Convolution2D, MaxPooling2D\n"
   ]
  },
  {
   "cell_type": "code",
   "execution_count": null,
   "metadata": {
    "collapsed": false
   },
   "outputs": [],
   "source": [
    "img = ascent()\n",
    "plt.imshow(img, cmap='gray')\n",
    "\n",
    "I = img.reshape((1, 1, img.shape[0], img.shape[1]))"
   ]
  },
  {
   "cell_type": "code",
   "execution_count": null,
   "metadata": {
    "collapsed": false
   },
   "outputs": [],
   "source": [
    "w = np.random.randn(1, 1, 5, 5)\n",
    "plt.imshow(w[0, 0], cmap='gray')"
   ]
  },
  {
   "cell_type": "code",
   "execution_count": null,
   "metadata": {
    "collapsed": true
   },
   "outputs": [],
   "source": [
    "X, W = T.tensor4s('X', 'W')\n",
    "Y = T.nnet.conv.conv2d(X, W, \n",
    "                       border_mode='valid', \n",
    "                       image_shape=I[:1].shape, \n",
    "                       filter_shape=w.shape)\n",
    "F = function([X, W], Y, allow_input_downcast = True)\n",
    "                       "
   ]
  },
  {
   "cell_type": "code",
   "execution_count": null,
   "metadata": {
    "collapsed": true
   },
   "outputs": [],
   "source": [
    "I.shape"
   ]
  },
  {
   "cell_type": "code",
   "execution_count": null,
   "metadata": {
    "collapsed": false
   },
   "outputs": [],
   "source": [
    "out = F(I, w)\n",
    "\n",
    "print(out.shape)\n",
    "plt.subplot(121)\n",
    "plt.imshow(out[0, 0], cmap='gray')\n",
    "plt.subplot(122)\n",
    "plt.imshow(img, cmap='gray')"
   ]
  },
  {
   "cell_type": "code",
   "execution_count": null,
   "metadata": {
    "collapsed": true
   },
   "outputs": [],
   "source": [
    "nb_output_chan = 1\n",
    "nb_rows = 5\n",
    "nb_cols = 5\n",
    "pool_row = 8\n",
    "pool_col = 8\n",
    "\n",
    "model = Sequential()\n",
    "model.add(Convolution2D(nb_output_chan, nb_rows, nb_cols, border_mode='valid', input_shape=I.shape[1:]))\n",
    "model.add(MaxPooling2D(pool_size=(pool_row, pool_col)))\n",
    "\n",
    "model.compile(loss='mse', optimizer='sgd')"
   ]
  },
  {
   "cell_type": "code",
   "execution_count": null,
   "metadata": {
    "collapsed": false
   },
   "outputs": [],
   "source": [
    "out = model.predict(I)\n",
    "plt.subplot(121)\n",
    "plt.imshow(out[0, 0], cmap='gray')\n",
    "plt.subplot(122)\n",
    "plt.imshow(img, cmap='gray')"
   ]
  },
  {
   "cell_type": "code",
   "execution_count": null,
   "metadata": {
    "collapsed": true
   },
   "outputs": [],
   "source": []
  }
 ],
 "metadata": {
  "kernelspec": {
   "display_name": "Python 3",
   "language": "python",
   "name": "python3"
  },
  "language_info": {
   "codemirror_mode": {
    "name": "ipython",
    "version": 3
   },
   "file_extension": ".py",
   "mimetype": "text/x-python",
   "name": "python",
   "nbconvert_exporter": "python",
   "pygments_lexer": "ipython3",
   "version": "3.4.4"
  }
 },
 "nbformat": 4,
 "nbformat_minor": 0
}
