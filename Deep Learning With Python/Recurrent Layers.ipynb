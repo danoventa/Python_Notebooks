{
 "cells": [
  {
   "cell_type": "code",
   "execution_count": null,
   "metadata": {
    "collapsed": false
   },
   "outputs": [],
   "source": [
    "%matplotlib inline\n",
    "import matplotlib.pyplot as plt\n",
    "\n",
    "import numpy as np\n",
    "from theano import tensor as T, function, scan"
   ]
  },
  {
   "cell_type": "code",
   "execution_count": null,
   "metadata": {
    "collapsed": false
   },
   "outputs": [],
   "source": [
    "X = T.tensor3('X')\n",
    "W, U, init_h = T.matrices('W_xh', 'W_hh', 'init_h')\n",
    "b = T.vector('b')\n",
    "\n",
    "def step(Wx_t, h_tml, U):\n",
    "    h_t = T.tanh(Wx_t + T.dot(h_tml, U))\n",
    "    return h_t\n",
    "\n",
    "Wx = T.dot(X, W) + b\n",
    "Wx = Wx.dimshuffle(1, 0, 2)\n",
    "\n",
    "outputs, updates = scan(step, sequences = Wx, outputs_info=init_h, non_sequences=U)"
   ]
  },
  {
   "cell_type": "code",
   "execution_count": null,
   "metadata": {
    "collapsed": true
   },
   "outputs": [],
   "source": [
    "F = function([X, init_h, W, U, b], outputs)"
   ]
  },
  {
   "cell_type": "code",
   "execution_count": null,
   "metadata": {
    "collapsed": false
   },
   "outputs": [],
   "source": [
    "time = 100\n",
    "batch = 50\n",
    "dim = 20\n",
    "hidden_dim = 30\n",
    "\n",
    "xx = np.random.randn(batch, time, dim)\n",
    "hh = np.zeros((batch, hidden_dim))\n",
    "ww = .1 * np.ones((dim, hidden_dim))\n",
    "uu = .1 * np.ones((hidden_dim, hidden_dim))\n",
    "bb = np.random.normal(0, .1, hidden_dim)\n",
    "\n",
    "y = F(xx, hh, ww, uu, bb)"
   ]
  },
  {
   "cell_type": "code",
   "execution_count": null,
   "metadata": {
    "collapsed": false
   },
   "outputs": [],
   "source": [
    "plt.plot(y[0, : , 0])"
   ]
  },
  {
   "cell_type": "code",
   "execution_count": null,
   "metadata": {
    "collapsed": true
   },
   "outputs": [],
   "source": []
  }
 ],
 "metadata": {
  "kernelspec": {
   "display_name": "Python 3",
   "language": "python",
   "name": "python3"
  },
  "language_info": {
   "codemirror_mode": {
    "name": "ipython",
    "version": 3
   },
   "file_extension": ".py",
   "mimetype": "text/x-python",
   "name": "python",
   "nbconvert_exporter": "python",
   "pygments_lexer": "ipython3",
   "version": "3.4.4"
  }
 },
 "nbformat": 4,
 "nbformat_minor": 0
}
