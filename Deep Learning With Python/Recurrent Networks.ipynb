{
 "cells": [
  {
   "cell_type": "code",
   "execution_count": 1,
   "metadata": {
    "collapsed": false
   },
   "outputs": [
    {
     "name": "stderr",
     "output_type": "stream",
     "text": [
      "Using Theano backend.\n"
     ]
    }
   ],
   "source": [
    "import numpy as np\n",
    "np.random.seed(1337)\n",
    "\n",
    "from keras.preprocessing import sequence\n",
    "from keras.optimizers import SGD, RMSprop, Adagrad\n",
    "from keras.utils import np_utils\n",
    "from keras.models import Sequential\n",
    "from keras.layers.core import Dense, Dropout, Activation\n",
    "from keras.layers.embeddings import Embedding\n",
    "from keras.layers.recurrent import LSTM, GRU\n",
    "from keras.datasets import imdb\n",
    "\n",
    "from theano import function"
   ]
  },
  {
   "cell_type": "code",
   "execution_count": 2,
   "metadata": {
    "collapsed": false
   },
   "outputs": [
    {
     "name": "stdout",
     "output_type": "stream",
     "text": [
      "Load data...\n",
      "20000 train sequences\n",
      "5000 test sequences\n"
     ]
    }
   ],
   "source": [
    "max_features = 20000\n",
    "maxlen = 100\n",
    "batch_size = 32\n",
    "\n",
    "print(\"Load data...\")\n",
    "(X_train, y_train), (X_test, y_test) = imdb.load_data(nb_words=max_features, test_split=0.2)\n",
    "print(len(X_train), \"train sequences\")\n",
    "print(len(X_test), \"test sequences\")\n"
   ]
  },
  {
   "cell_type": "code",
   "execution_count": 3,
   "metadata": {
    "collapsed": false
   },
   "outputs": [
    {
     "data": {
      "text/plain": [
       "[1,\n",
       " 20,\n",
       " 28,\n",
       " 716,\n",
       " 48,\n",
       " 495,\n",
       " 79,\n",
       " 27,\n",
       " 493,\n",
       " 8,\n",
       " 5067,\n",
       " 7,\n",
       " 50,\n",
       " 5,\n",
       " 4682,\n",
       " 13075,\n",
       " 10,\n",
       " 5,\n",
       " 852,\n",
       " 157,\n",
       " 11,\n",
       " 5,\n",
       " 1716,\n",
       " 3351,\n",
       " 10,\n",
       " 5,\n",
       " 500,\n",
       " 7308,\n",
       " 6,\n",
       " 33,\n",
       " 256,\n",
       " 41,\n",
       " 13610,\n",
       " 7,\n",
       " 17,\n",
       " 23,\n",
       " 48,\n",
       " 1537,\n",
       " 3504,\n",
       " 26,\n",
       " 269,\n",
       " 929,\n",
       " 18,\n",
       " 2,\n",
       " 7,\n",
       " 2,\n",
       " 4284,\n",
       " 8,\n",
       " 105,\n",
       " 5,\n",
       " 2,\n",
       " 182,\n",
       " 314,\n",
       " 38,\n",
       " 98,\n",
       " 103,\n",
       " 7,\n",
       " 36,\n",
       " 2184,\n",
       " 246,\n",
       " 360,\n",
       " 7,\n",
       " 19,\n",
       " 396,\n",
       " 17,\n",
       " 26,\n",
       " 269,\n",
       " 929,\n",
       " 18,\n",
       " 1769,\n",
       " 493,\n",
       " 6,\n",
       " 116,\n",
       " 7,\n",
       " 105,\n",
       " 5,\n",
       " 575,\n",
       " 182,\n",
       " 27,\n",
       " 5,\n",
       " 1002,\n",
       " 1085,\n",
       " 130,\n",
       " 62,\n",
       " 17,\n",
       " 24,\n",
       " 89,\n",
       " 17,\n",
       " 13,\n",
       " 381,\n",
       " 1421,\n",
       " 8,\n",
       " 5167,\n",
       " 7,\n",
       " 5,\n",
       " 2723,\n",
       " 38,\n",
       " 325,\n",
       " 7,\n",
       " 17,\n",
       " 23,\n",
       " 93,\n",
       " 9,\n",
       " 156,\n",
       " 252,\n",
       " 19,\n",
       " 235,\n",
       " 20,\n",
       " 28,\n",
       " 5,\n",
       " 104,\n",
       " 76,\n",
       " 7,\n",
       " 17,\n",
       " 169,\n",
       " 35,\n",
       " 14764,\n",
       " 17,\n",
       " 23,\n",
       " 1460,\n",
       " 7,\n",
       " 36,\n",
       " 2184,\n",
       " 934,\n",
       " 56,\n",
       " 2134,\n",
       " 6,\n",
       " 17,\n",
       " 891,\n",
       " 214,\n",
       " 11,\n",
       " 5,\n",
       " 1552,\n",
       " 6,\n",
       " 92,\n",
       " 6,\n",
       " 33,\n",
       " 256,\n",
       " 82,\n",
       " 7]"
      ]
     },
     "execution_count": 3,
     "metadata": {},
     "output_type": "execute_result"
    }
   ],
   "source": [
    "X_train[0]"
   ]
  },
  {
   "cell_type": "code",
   "execution_count": 6,
   "metadata": {
    "collapsed": false
   },
   "outputs": [
    {
     "name": "stdout",
     "output_type": "stream",
     "text": [
      "Build model...\n"
     ]
    }
   ],
   "source": [
    "print('Build model...')\n",
    "model = Sequential()\n",
    "model.add(Embedding(max_features, 128, input_length=maxlen))\n",
    "\n",
    "model.add(LSTM(128))\n",
    "model.add(Dropout(0.5))\n",
    "model.add(Dense(1))\n",
    "model.add(Activation('sigmoid'))"
   ]
  },
  {
   "cell_type": "code",
   "execution_count": 7,
   "metadata": {
    "collapsed": false
   },
   "outputs": [
    {
     "name": "stderr",
     "output_type": "stream",
     "text": [
      "/Users/Noventa/anaconda/envs/py34/lib/python3.4/site-packages/keras/models.py:495: UserWarning: The \"class_mode\" argument is deprecated, please remove it from your code.\n",
      "  warnings.warn('The \"class_mode\" argument is deprecated, please remove it from your code.')\n"
     ]
    }
   ],
   "source": [
    "model.compile(loss='binary_crossentropy', \n",
    "              optimizer='adam', \n",
    "              class_mode='binary')"
   ]
  },
  {
   "cell_type": "code",
   "execution_count": 8,
   "metadata": {
    "collapsed": true
   },
   "outputs": [],
   "source": [
    "inp = model.get_input()\n",
    "embedding = model.layers[0].get_output()\n",
    "F = function([inp], embedding, allow_input_downcast=True)"
   ]
  },
  {
   "cell_type": "code",
   "execution_count": 9,
   "metadata": {
    "collapsed": false
   },
   "outputs": [
    {
     "name": "stdout",
     "output_type": "stream",
     "text": [
      ">>> INPUT:\n",
      "[[1, 20, 28, 716, 48, 495, 79, 27, 493, 8, 5067, 7, 50, 5, 4682, 13075, 10, 5, 852, 157, 11, 5, 1716, 3351, 10, 5, 500, 7308, 6, 33, 256, 41, 13610, 7, 17, 23, 48, 1537, 3504, 26, 269, 929, 18, 2, 7, 2, 4284, 8, 105, 5, 2, 182, 314, 38, 98, 103, 7, 36, 2184, 246, 360, 7, 19, 396, 17, 26, 269, 929, 18, 1769, 493, 6, 116, 7, 105, 5, 575, 182, 27, 5, 1002, 1085, 130, 62, 17, 24, 89, 17, 13, 381, 1421, 8, 5167, 7, 5, 2723, 38, 325, 7, 17, 23, 93, 9, 156, 252, 19, 235, 20, 28, 5, 104, 76, 7, 17, 169, 35, 14764, 17, 23, 1460, 7, 36, 2184, 934, 56, 2134, 6, 17, 891, 214, 11, 5, 1552, 6, 92, 6, 33, 256, 82, 7]]\n",
      ">>> INPUT shape:\n",
      "(1,)\n",
      ">>> Embeddings :\n",
      "[[[ 0.03627298  0.01275131  0.03381054 ..., -0.01635166 -0.04914211\n",
      "    0.03764638]\n",
      "  [-0.03341143  0.02245892 -0.00606505 ...,  0.04109656 -0.03762578\n",
      "    0.03252407]\n",
      "  [ 0.03731728  0.01906057 -0.02809499 ...,  0.04517861 -0.01614408\n",
      "    0.01356669]\n",
      "  ..., \n",
      "  [ 0.04090018 -0.02343854  0.0315331  ..., -0.04950535  0.01475945\n",
      "    0.04115001]\n",
      "  [ 0.03650178 -0.04782986  0.03330185 ...,  0.01750745  0.03126881\n",
      "    0.01868706]\n",
      "  [ 0.0244836  -0.02831537 -0.01510486 ..., -0.03297456  0.00183296\n",
      "   -0.02324817]]]\n",
      ">>> Embedding shape:\n",
      "(1, 140, 128)\n"
     ]
    }
   ],
   "source": [
    "print(\">>> INPUT:\")\n",
    "print(X_train[:1])\n",
    "print(\">>> INPUT shape:\")\n",
    "X_train2 = np.array(X_train)\n",
    "print(X_train.shape)\n",
    "print(\">>> Embeddings :\")\n",
    "print(F(X_train[0:1]))\n",
    "print(\">>> Embedding shape:\")\n",
    "print(F(X_train[:1]).shape)"
   ]
  },
  {
   "cell_type": "code",
   "execution_count": null,
   "metadata": {
    "collapsed": true
   },
   "outputs": [],
   "source": []
  }
 ],
 "metadata": {
  "kernelspec": {
   "display_name": "Python 3",
   "language": "python",
   "name": "python3"
  },
  "language_info": {
   "codemirror_mode": {
    "name": "ipython",
    "version": 3
   },
   "file_extension": ".py",
   "mimetype": "text/x-python",
   "name": "python",
   "nbconvert_exporter": "python",
   "pygments_lexer": "ipython3",
   "version": "3.4.4"
  }
 },
 "nbformat": 4,
 "nbformat_minor": 0
}
