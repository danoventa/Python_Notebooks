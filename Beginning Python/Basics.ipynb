{
 "cells": [
  {
   "cell_type": "markdown",
   "metadata": {},
   "source": [
    "\n",
    "### Messing around with Counters"
   ]
  },
  {
   "cell_type": "code",
   "execution_count": null,
   "metadata": {
    "collapsed": false
   },
   "outputs": [],
   "source": [
    "from collections import Counter\n",
    "c = Counter()\n",
    "# a new, empty counter\n",
    "c = Counter('gallahad')   \n",
    "# a new counter from an iterable\n",
    "c = Counter({'red': 4, 'blue': 2})\n",
    "# a new counter from a mapping\n",
    "c = Counter(cats=4, dogs=8) \n",
    "c"
   ]
  },
  {
   "cell_type": "code",
   "execution_count": null,
   "metadata": {
    "collapsed": false
   },
   "outputs": [],
   "source": [
    "print(\"Fisrtname : {first:s} LastName : {last} Middle : {mid:.1s}\".format(first = input().capitalize(), last = input().capitalize(), mid = input().capitalize()))"
   ]
  },
  {
   "cell_type": "markdown",
   "metadata": {},
   "source": [
    "## 2d Matrixes Matrices?"
   ]
  },
  {
   "cell_type": "code",
   "execution_count": null,
   "metadata": {
    "collapsed": false
   },
   "outputs": [],
   "source": [
    "from pprint import pprint as pretty_print\n",
    "from copy import copy, deepcopy\n",
    "\n",
    "num_2d = [\n",
    "    [1, 2, 3, 4], \n",
    "    [5, 6, 7, 8], \n",
    "    [9, 10, 11, 12]\n",
    "]\n",
    "\n",
    "pretty_print(num_2d)\n",
    "\n",
    "letter = ['a', 'b', 'c', 'd', 'e']\n",
    "\n",
    "letter_2d = [copy(letter), copy(letter), copy(letter)]\n",
    "\n",
    "pretty_print(letter_2d)\n"
   ]
  },
  {
   "cell_type": "markdown",
   "metadata": {},
   "source": [
    "## list slicing"
   ]
  },
  {
   "cell_type": "code",
   "execution_count": null,
   "metadata": {
    "collapsed": false
   },
   "outputs": [],
   "source": [
    "a = list(range(0, 10))\n",
    "print(a)\n",
    "\n",
    "print(a[0:5])\n",
    "print(a[2:len(a)])\n",
    "print(a[:])\n",
    "print(a[::2])\n",
    "print(a[-1])\n",
    "print(a[2:-2])\n",
    "print(a[::-1])"
   ]
  },
  {
   "cell_type": "markdown",
   "metadata": {},
   "source": [
    "## Control Flow"
   ]
  },
  {
   "cell_type": "code",
   "execution_count": null,
   "metadata": {
    "collapsed": true
   },
   "outputs": [],
   "source": [
    "# Just if's and else elif's Not much going on here. "
   ]
  },
  {
   "cell_type": "code",
   "execution_count": null,
   "metadata": {
    "collapsed": false
   },
   "outputs": [],
   "source": [
    "# Print all even numbers\n",
    "for i in range(3)[::2]:\n",
    "    print(i)\n",
    "None"
   ]
  },
  {
   "cell_type": "code",
   "execution_count": null,
   "metadata": {
    "collapsed": false
   },
   "outputs": [],
   "source": [
    "a, b = int(input(\"yO AGE: \")), int(input(\"My age: \"))"
   ]
  },
  {
   "cell_type": "code",
   "execution_count": null,
   "metadata": {
    "collapsed": false
   },
   "outputs": [],
   "source": [
    "print(a, b)"
   ]
  },
  {
   "cell_type": "code",
   "execution_count": null,
   "metadata": {
    "collapsed": false
   },
   "outputs": [],
   "source": [
    "d_list = ['dan', 'dan', 'dan']\n",
    "i_list = iter(d_list)\n",
    "print(d_list)\n",
    "print(next(i_list))\n",
    "print(next(i_list))\n",
    "print(next(i_list))\n",
    "# print(next(i_list)) case fails\n"
   ]
  },
  {
   "cell_type": "code",
   "execution_count": null,
   "metadata": {
    "collapsed": false
   },
   "outputs": [],
   "source": [
    "import datetime as dt\n",
    "\n",
    "def record_time(message, time = dt.datetime.now()):\n",
    "    print(\"{:}, time: {:}\".format(message, time))\n",
    "    \n",
    "record_time(\"It's morning\")\n",
    "\n",
    "def add(*numbers):\n",
    "    total = 0\n",
    "    for n in numbers:\n",
    "        total += n\n",
    "    return total\n",
    "\n",
    "print(add(1, 2, 3, 4, 5, 6, 7, 8, 9, 10))"
   ]
  },
  {
   "cell_type": "markdown",
   "metadata": {},
   "source": [
    "### Modules"
   ]
  },
  {
   "cell_type": "code",
   "execution_count": null,
   "metadata": {
    "collapsed": false
   },
   "outputs": [],
   "source": [
    "from math import factorial as f\n",
    "\n",
    "f(10)"
   ]
  },
  {
   "cell_type": "code",
   "execution_count": null,
   "metadata": {
    "collapsed": false
   },
   "outputs": [],
   "source": [
    "import http.server\n",
    "import socketserver\n",
    "\n",
    "PORT = 8001\n",
    "\n",
    "Handler = http.server.SimpleHTTPRequestHandler\n",
    "\n",
    "httpd = socketserver.TCPServer((\"\", PORT), Handler)\n",
    "\n",
    "print(\"serving at port \", PORT)\n",
    "# httpd.serve_forever()"
   ]
  },
  {
   "cell_type": "code",
   "execution_count": null,
   "metadata": {
    "collapsed": false
   },
   "outputs": [],
   "source": [
    "# We can import modules that we've created, just like other OO languages. \n",
    "print(__name__)"
   ]
  },
  {
   "cell_type": "code",
   "execution_count": null,
   "metadata": {
    "collapsed": false
   },
   "outputs": [],
   "source": [
    "from PIL import Image"
   ]
  },
  {
   "cell_type": "markdown",
   "metadata": {},
   "source": [
    "### Image processing"
   ]
  },
  {
   "cell_type": "code",
   "execution_count": null,
   "metadata": {
    "collapsed": false
   },
   "outputs": [],
   "source": [
    "import urllib.request\n",
    "# urllib.request(\"http://www.wildlifedepartment.com/wildlifemgmt/turtles/Common%20Map%20Turtle.jpg\", \"Turtle.jpg\")\n",
    "\n",
    "# help(urllib)\n",
    "# request.request(\"http://www.wildlifedepartment.com/wildlifemgmt/turtles/Common%20Map%20Turtle.jpg\", \"Turtle.jpg\")\n",
    "urllib.request.urlretrieve(\"http://www.wildlifedepartment.com/wildlifemgmt/turtles/Common%20Map%20Turtle.jpg\", \"Turtle.jpg\")"
   ]
  },
  {
   "cell_type": "code",
   "execution_count": null,
   "metadata": {
    "collapsed": false
   },
   "outputs": [],
   "source": [
    "def resize_images(image_names, new_size = (200, 200)):\n",
    "    for image_name in image_names:\n",
    "        img = Image.open(image_name)\n",
    "        img = img.resize(new_size)\n",
    "        img.save(\"resized_\" + image_name)\n",
    "        \n",
    "images = [\"Turtle.jpg\"]\n",
    "#resize_images(images)\n",
    "\n",
    "from PIL import Image, ImageFilter, ImageEnhance\n",
    "from IPython.display import display\n",
    "\n",
    "turtles = Image.open(\"Turtle.jpg\")\n",
    "gray = turtles.convert('L')\n",
    "display(gray)\n",
    "\n",
    "cont = ImageEnhance.Contrast(turtles).enhance(3.5)\n",
    "display(cont)\n",
    "\n",
    "brig = ImageEnhance.Brightness(turtles).enhance(3.5)\n",
    "display(brig)\n",
    "\n",
    "display(turtles)"
   ]
  },
  {
   "cell_type": "code",
   "execution_count": null,
   "metadata": {
    "collapsed": true
   },
   "outputs": [],
   "source": []
  }
 ],
 "metadata": {
  "kernelspec": {
   "display_name": "Python 3",
   "language": "python",
   "name": "python3"
  },
  "language_info": {
   "codemirror_mode": {
    "name": "ipython",
    "version": 3
   },
   "file_extension": ".py",
   "mimetype": "text/x-python",
   "name": "python",
   "nbconvert_exporter": "python",
   "pygments_lexer": "ipython3",
   "version": "3.4.4"
  }
 },
 "nbformat": 4,
 "nbformat_minor": 0
}
