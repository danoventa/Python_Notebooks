{
 "cells": [
  {
   "cell_type": "markdown",
   "metadata": {},
   "source": [
    "\n",
    "### Messing around with Counters"
   ]
  },
  {
   "cell_type": "code",
   "execution_count": 2,
   "metadata": {
    "collapsed": false
   },
   "outputs": [
    {
     "data": {
      "text/plain": [
       "Counter({'cats': 4, 'dogs': 8})"
      ]
     },
     "execution_count": 2,
     "metadata": {},
     "output_type": "execute_result"
    }
   ],
   "source": [
    "from collections import Counter\n",
    "c = Counter()\n",
    "# a new, empty counter\n",
    "c = Counter('gallahad')   \n",
    "# a new counter from an iterable\n",
    "c = Counter({'red': 4, 'blue': 2})\n",
    "# a new counter from a mapping\n",
    "c = Counter(cats=4, dogs=8) \n",
    "c"
   ]
  },
  {
   "cell_type": "code",
   "execution_count": 8,
   "metadata": {
    "collapsed": false
   },
   "outputs": [
    {
     "name": "stdout",
     "output_type": "stream",
     "text": [
      "dan\n",
      "nove\n",
      "anthno\n",
      "Fisrtname : Dan LastName : Nove Middle : A\n"
     ]
    }
   ],
   "source": [
    "print(\"Fisrtname : {first:s} LastName : {last} Middle : {mid:.1s}\".format(first = input().capitalize(), last = input().capitalize(), mid = input().capitalize()))"
   ]
  },
  {
   "cell_type": "markdown",
   "metadata": {},
   "source": [
    "## 2d Matrixes Matrices?"
   ]
  },
  {
   "cell_type": "code",
   "execution_count": 16,
   "metadata": {
    "collapsed": false
   },
   "outputs": [
    {
     "name": "stdout",
     "output_type": "stream",
     "text": [
      "[[1, 2, 3, 4], [5, 6, 7, 8], [9, 10, 11, 12]]\n",
      "[['a', 'b', 'c', 'd', 'e'],\n",
      " ['a', 'b', 'c', 'd', 'e'],\n",
      " ['a', 'b', 'c', 'd', 'e']]\n"
     ]
    }
   ],
   "source": [
    "from pprint import pprint as pretty_print\n",
    "from copy import copy, deepcopy\n",
    "\n",
    "num_2d = [\n",
    "    [1, 2, 3, 4], \n",
    "    [5, 6, 7, 8], \n",
    "    [9, 10, 11, 12]\n",
    "]\n",
    "\n",
    "pretty_print(num_2d)\n",
    "\n",
    "letter = ['a', 'b', 'c', 'd', 'e']\n",
    "\n",
    "letter_2d = [copy(letter), copy(letter), copy(letter)]\n",
    "\n",
    "pretty_print(letter_2d)\n"
   ]
  },
  {
   "cell_type": "markdown",
   "metadata": {},
   "source": [
    "## list slicing"
   ]
  },
  {
   "cell_type": "code",
   "execution_count": 21,
   "metadata": {
    "collapsed": false
   },
   "outputs": [
    {
     "name": "stdout",
     "output_type": "stream",
     "text": [
      "[0, 1, 2, 3, 4, 5, 6, 7, 8, 9]\n",
      "[0, 1, 2, 3, 4]\n",
      "[2, 3, 4, 5, 6, 7, 8, 9]\n",
      "[0, 1, 2, 3, 4, 5, 6, 7, 8, 9]\n",
      "[0, 2, 4, 6, 8]\n",
      "9\n",
      "[2, 3, 4, 5, 6, 7]\n",
      "[9, 8, 7, 6, 5, 4, 3, 2, 1, 0]\n"
     ]
    }
   ],
   "source": [
    "a = list(range(0, 10))\n",
    "print(a)\n",
    "\n",
    "print(a[0:5])\n",
    "print(a[2:len(a)])\n",
    "print(a[:])\n",
    "print(a[::2])\n",
    "print(a[-1])\n",
    "print(a[2:-2])\n",
    "print(a[::-1])"
   ]
  },
  {
   "cell_type": "markdown",
   "metadata": {},
   "source": [
    "## Control Flow"
   ]
  },
  {
   "cell_type": "code",
   "execution_count": 22,
   "metadata": {
    "collapsed": true
   },
   "outputs": [],
   "source": [
    "# Just if's and else elif's Not much going on here. "
   ]
  },
  {
   "cell_type": "code",
   "execution_count": 26,
   "metadata": {
    "collapsed": false
   },
   "outputs": [
    {
     "name": "stdout",
     "output_type": "stream",
     "text": [
      "0\n",
      "2\n"
     ]
    }
   ],
   "source": [
    "# Print all even numbers\n",
    "for i in range(3)[::2]:\n",
    "    print(i)\n",
    "None"
   ]
  },
  {
   "cell_type": "code",
   "execution_count": 28,
   "metadata": {
    "collapsed": false
   },
   "outputs": [
    {
     "name": "stdout",
     "output_type": "stream",
     "text": [
      "yO AGE: 10\n",
      "My age: 10\n"
     ]
    }
   ],
   "source": [
    "a, b = int(input(\"yO AGE: \")), int(input(\"My age: \"))"
   ]
  },
  {
   "cell_type": "code",
   "execution_count": 29,
   "metadata": {
    "collapsed": false
   },
   "outputs": [
    {
     "name": "stdout",
     "output_type": "stream",
     "text": [
      "10 10\n"
     ]
    }
   ],
   "source": [
    "print(a, b)"
   ]
  },
  {
   "cell_type": "code",
   "execution_count": 34,
   "metadata": {
    "collapsed": false
   },
   "outputs": [
    {
     "name": "stdout",
     "output_type": "stream",
     "text": [
      "['dan', 'dan', 'dan']\n",
      "dan\n",
      "dan\n",
      "dan\n"
     ]
    }
   ],
   "source": [
    "d_list = ['dan', 'dan', 'dan']\n",
    "i_list = iter(d_list)\n",
    "print(d_list)\n",
    "print(next(i_list))\n",
    "print(next(i_list))\n",
    "print(next(i_list))\n",
    "# print(next(i_list)) case fails\n"
   ]
  },
  {
   "cell_type": "code",
   "execution_count": 36,
   "metadata": {
    "collapsed": false
   },
   "outputs": [
    {
     "name": "stdout",
     "output_type": "stream",
     "text": [
      "It's morning, time: 2016-05-17 13:24:30.183991\n",
      "55\n"
     ]
    }
   ],
   "source": [
    "import datetime as dt\n",
    "\n",
    "def record_time(message, time = dt.datetime.now()):\n",
    "    print(\"{:}, time: {:}\".format(message, time))\n",
    "    \n",
    "record_time(\"It's morning\")\n",
    "\n",
    "def add(*numbers):\n",
    "    total = 0\n",
    "    for n in numbers:\n",
    "        total += n\n",
    "    return total\n",
    "\n",
    "print(add(1, 2, 3, 4, 5, 6, 7, 8, 9, 10))"
   ]
  },
  {
   "cell_type": "markdown",
   "metadata": {},
   "source": [
    "### Modules"
   ]
  },
  {
   "cell_type": "code",
   "execution_count": 37,
   "metadata": {
    "collapsed": false
   },
   "outputs": [
    {
     "data": {
      "text/plain": [
       "3628800"
      ]
     },
     "execution_count": 37,
     "metadata": {},
     "output_type": "execute_result"
    }
   ],
   "source": [
    "from math import factorial as f\n",
    "\n",
    "f(10)"
   ]
  },
  {
   "cell_type": "code",
   "execution_count": 41,
   "metadata": {
    "collapsed": false
   },
   "outputs": [
    {
     "name": "stdout",
     "output_type": "stream",
     "text": [
      "serving at port  8001\n"
     ]
    }
   ],
   "source": [
    "import http.server\n",
    "import socketserver\n",
    "\n",
    "PORT = 8001\n",
    "\n",
    "Handler = http.server.SimpleHTTPRequestHandler\n",
    "\n",
    "httpd = socketserver.TCPServer((\"\", PORT), Handler)\n",
    "\n",
    "print(\"serving at port \", PORT)\n",
    "# httpd.serve_forever()"
   ]
  },
  {
   "cell_type": "code",
   "execution_count": 42,
   "metadata": {
    "collapsed": false
   },
   "outputs": [
    {
     "name": "stdout",
     "output_type": "stream",
     "text": [
      "__main__\n"
     ]
    }
   ],
   "source": [
    "# We can import modules that we've created, just like other OO languages. \n",
    "print(__name__)"
   ]
  },
  {
   "cell_type": "code",
   "execution_count": 50,
   "metadata": {
    "collapsed": false
   },
   "outputs": [],
   "source": [
    "from PIL import Image"
   ]
  },
  {
   "cell_type": "markdown",
   "metadata": {},
   "source": [
    "### Image processing"
   ]
  },
  {
   "cell_type": "code",
   "execution_count": 67,
   "metadata": {
    "collapsed": false
   },
   "outputs": [
    {
     "data": {
      "text/plain": [
       "('Turtle.jpg', <http.client.HTTPMessage at 0x1035d3da0>)"
      ]
     },
     "execution_count": 67,
     "metadata": {},
     "output_type": "execute_result"
    }
   ],
   "source": [
    "import urllib.request\n",
    "# urllib.request(\"http://www.wildlifedepartment.com/wildlifemgmt/turtles/Common%20Map%20Turtle.jpg\", \"Turtle.jpg\")\n",
    "\n",
    "# help(urllib)\n",
    "# request.request(\"http://www.wildlifedepartment.com/wildlifemgmt/turtles/Common%20Map%20Turtle.jpg\", \"Turtle.jpg\")\n",
    "urllib.request.urlretrieve(\"http://www.wildlifedepartment.com/wildlifemgmt/turtles/Common%20Map%20Turtle.jpg\", \"Turtle.jpg\")"
   ]
  },
  {
   "cell_type": "code",
   "execution_count": null,
   "metadata": {
    "collapsed": true
   },
   "outputs": [],
   "source": []
  }
 ],
 "metadata": {
  "kernelspec": {
   "display_name": "Python 3",
   "language": "python",
   "name": "python3"
  },
  "language_info": {
   "codemirror_mode": {
    "name": "ipython",
    "version": 3
   },
   "file_extension": ".py",
   "mimetype": "text/x-python",
   "name": "python",
   "nbconvert_exporter": "python",
   "pygments_lexer": "ipython3",
   "version": "3.4.4"
  }
 },
 "nbformat": 4,
 "nbformat_minor": 0
}
