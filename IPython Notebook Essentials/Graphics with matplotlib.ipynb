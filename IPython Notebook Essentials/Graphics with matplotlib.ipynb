{
 "cells": [
  {
   "cell_type": "markdown",
   "metadata": {},
   "source": [
    "# Graphics with matplotlib\n",
    "## The plit function"
   ]
  },
  {
   "cell_type": "code",
   "execution_count": null,
   "metadata": {
    "collapsed": false
   },
   "outputs": [],
   "source": [
    "%pylab inline\n",
    "import matplotlib\n",
    "import numpy"
   ]
  },
  {
   "cell_type": "code",
   "execution_count": null,
   "metadata": {
    "collapsed": true
   },
   "outputs": [],
   "source": [
    "def make_logistic(r, a, b, c):\n",
    "    def f_logistic(t):\n",
    "        return a/(b + c * exp(-r * t))\n",
    "    return f_logistic"
   ]
  },
  {
   "cell_type": "code",
   "execution_count": null,
   "metadata": {
    "collapsed": false
   },
   "outputs": [],
   "source": [
    "r = 0.15\n",
    "a = 20.0\n",
    "c = 15.0\n",
    "b1, b2, b3 = 2.0, 3.0, 4.0\n",
    "logistic1 = make_logistic(r, a, b1, c)\n",
    "logistic2 = make_logistic(r, a, b2, c)\n",
    "logistic3 = make_logistic(r, a, b3, c)"
   ]
  },
  {
   "cell_type": "code",
   "execution_count": null,
   "metadata": {
    "collapsed": false
   },
   "outputs": [],
   "source": [
    "tmax = 40\n",
    "tvalues = linspace(0, tmax, 300)\n",
    "plot(tvalues, logistic1(tvalues))\n",
    "plot(tvalues, logistic2(tvalues))\n",
    "plot(tvalues, logistic3(tvalues))"
   ]
  },
  {
   "cell_type": "code",
   "execution_count": null,
   "metadata": {
    "collapsed": false
   },
   "outputs": [],
   "source": [
    "plot(tvalues, logistic1(tvalues), \n",
    "     linewidth=1.5, color='DarkGreen', linestyle='-',\n",
    "     marker='o', markevery=50, markerfacecolor='GreenYellow',\n",
    "     markersize=10.0) \n",
    "plot(tvalues, logistic2(tvalues), \n",
    "     linewidth=2.0, color='#8B0000', linestyle=':',\n",
    "     marker='s', markevery=50, markerfacecolor='Salmon',\n",
    "     markersize=10.0)  \n",
    "plot(tvalues, logistic3(tvalues), \n",
    "     linewidth=2.0, color=(0.0, 0.0, 0.5), linestyle='--',\n",
    "     marker = '*', markevery=50, markerfacecolor='SkyBlue',\n",
    "     markersize=12.0)\n",
    "axis([0, tmax, 0, 11.])\n",
    "None"
   ]
  },
  {
   "cell_type": "code",
   "execution_count": null,
   "metadata": {
    "collapsed": false
   },
   "outputs": [],
   "source": [
    "title('Logistic growth: a={:5.2f}, c={:5.2f}, r={:5.2f}'.format(a, c, r))\n",
    "xlabel('$t$')\n",
    "ylabel('$N(t)=a/(b+ce^{-rt})$')"
   ]
  },
  {
   "cell_type": "code",
   "execution_count": null,
   "metadata": {
    "collapsed": false
   },
   "outputs": [],
   "source": [
    "title('Logistic growth: a={:5.2f}, b={:5.2f}, r={:5.2f}'.format(a, c, r)) \n"
   ]
  },
  {
   "cell_type": "code",
   "execution_count": null,
   "metadata": {
    "collapsed": false
   },
   "outputs": [],
   "source": [
    "xlabel('$t$')\n",
    "ylabel('$N(t)=a/(b+ce^{-rt})$')"
   ]
  },
  {
   "cell_type": "code",
   "execution_count": null,
   "metadata": {
    "collapsed": false
   },
   "outputs": [],
   "source": [
    "legend(['b={:5.2f}'.format(b1),\n",
    "        'b={:5.2f}'.format(b2),\n",
    "        'b={:5.2f}'.format(b3)])"
   ]
  },
  {
   "cell_type": "code",
   "execution_count": null,
   "metadata": {
    "collapsed": false
   },
   "outputs": [],
   "source": [
    "legend(['b={:5.2f}'.format(b1),\n",
    "        'b={:5.2f}'.format(b2),\n",
    "        'b={:5.2f}'.format(b3)], loc='upper left')"
   ]
  },
  {
   "cell_type": "code",
   "execution_count": null,
   "metadata": {
    "collapsed": true
   },
   "outputs": [],
   "source": [
    "f = lambda x:  (x**3 - 6*x**2 + 9*x + 3) / (1 + 0.25*x**2)\n",
    "xvalues = linspace(0, 5, 200)"
   ]
  },
  {
   "cell_type": "code",
   "execution_count": null,
   "metadata": {
    "collapsed": false
   },
   "outputs": [],
   "source": [
    "plot(xvalues, f(xvalues), lw=2, color='FireBrick')\n",
    "axis([0, 5, -1, 8])\n",
    "grid()\n",
    "xlabel('$x$')\n",
    "ylabel('$f(x)$')\n",
    "title('Extreme values of a function')\n",
    "None # Prevent text output"
   ]
  },
  {
   "cell_type": "code",
   "execution_count": null,
   "metadata": {
    "collapsed": false
   },
   "outputs": [],
   "source": [
    "x_min = 3.213\n",
    "f_min = f(x_min)\n",
    "x_max = 0.698\n",
    "f_max = f(x_max)\n",
    "p_min = array([x_min, f_min])\n",
    "p_max = array([x_max, f_max])\n",
    "print( p_min)\n",
    "print(p_max)"
   ]
  },
  {
   "cell_type": "code",
   "execution_count": null,
   "metadata": {
    "collapsed": false
   },
   "outputs": [],
   "source": [
    "bbox_props = dict(boxstyle='round', lw=2, fc='Beige')\n",
    "text(2, 6, 'Maximum and minimum points\\nhave horizontal tangents', \n",
    "     bbox=bbox_props, fontsize=12, verticalalignment='top')\n",
    "plot([x_min-0.75, x_min+0.75], [f_min, f_min],\n",
    "     color='RoyalBlue', lw=3)\n",
    "plot([x_max-0.75, x_max+0.75], [f_max, f_max],\n",
    "     color='RoyalBlue', lw=3)\n",
    "arrow_props = dict(facecolor='DimGray', width=3, shrink=0.05, \n",
    "              headwidth=7)\n",
    "delta = array([0.1, 0.1])\n",
    "offset = array([1.0, .85])\n",
    "annotate('Maximum', xy=p_max+delta, xytext=p_max+offset,\n",
    "         arrowprops=arrow_props, verticalalignment='bottom',\n",
    "         horizontalalignment='left', fontsize=13)\n",
    "annotate('Minimum', xy=p_min-delta, xytext=p_min-offset,\n",
    "         arrowprops=arrow_props, verticalalignment='top',\n",
    "         horizontalalignment='right', fontsize=13)\n",
    "plot(xvalues, f(xvalues), lw=2, color='FireBrick')\n",
    "axis([0, 5, -1, 8])\n",
    "grid()\n",
    "xlabel('$x$')\n",
    "ylabel('$f(x)$')\n",
    "title('Extreme values of a function')\n",
    "None # Prevent text output"
   ]
  },
  {
   "cell_type": "markdown",
   "metadata": {},
   "source": [
    "# Three-dimensional plots"
   ]
  },
  {
   "cell_type": "code",
   "execution_count": null,
   "metadata": {
    "collapsed": true
   },
   "outputs": [],
   "source": [
    "from mpl_toolkits.mplot3d import axes3d\n"
   ]
  },
  {
   "cell_type": "code",
   "execution_count": null,
   "metadata": {
    "collapsed": false
   },
   "outputs": [],
   "source": [
    "def dist(x, y):\n",
    "    return sqrt(x**2 + y**2) \n",
    "def fsurface(x, y):\n",
    "    d = sqrt(x**2 + y**2)\n",
    "    c = 5.0\n",
    "    r = 7.5\n",
    "    return c - (d**4 - r * d**2)\n",
    "\n",
    "xybound = 2.5\n",
    "fig = figure(figsize=(8,8))\n",
    "ax = subplot(1, 1, 1, projection='3d')\n",
    "X = linspace(-xybound, xybound, 25)\n",
    "Y = linspace(-xybound, xybound, 25)\n",
    "X, Y = meshgrid(X, Y)\n",
    "Z = fsurface(X,Y)\n",
    "ax.plot_surface(X, Y, Z, rstride=1, cstride=1, cmap=cm.coolwarm,\n",
    "                antialiased=True, linewidth=0.2)\n",
    "ax.set_xlabel(r'$x$')\n",
    "ax.set_ylabel(r'$y$')\n",
    "ax.set_zlabel(r'$f(x,y)$')\n",
    "None #Prevent text output"
   ]
  },
  {
   "cell_type": "code",
   "execution_count": null,
   "metadata": {
    "collapsed": false
   },
   "outputs": [],
   "source": [
    "fig = figure(figsize(20,8))\n",
    "ax1 = subplot(1, 2, 1, projection='3d')\n",
    "X = linspace(-xybound, xybound, 100)\n",
    "Y = linspace(-xybound, xybound, 100)\n",
    "X, Y = np.meshgrid(X, Y)\n",
    "Z = fsurface(X,Y)\n",
    "ax1 = subplot(1, 2, 1, projection='3d')\n",
    "ax2 = subplot(1, 2, 2)\n",
    "ax1.plot_surface(X, Y, Z, rstride=5, cstride=5, cmap=cm.coolwarm,\n",
    "                antialiased=True, linewidth=0.2)\n",
    "ax1.set_xlabel(r'$x$')\n",
    "ax1.set_ylabel(r'$y$')\n",
    "ax1.set_zlabel(r'$f(x,y)$')\n",
    "ax1.set_title('A surface plot', fontsize=18)\n",
    "ax2 = subplot(1, 2, 2)\n",
    "ax2.set_aspect('equal')\n",
    "\n",
    "levels = arange(5, 20, 2.5)\n",
    "cs = ax2.contour(X, Y, Z,\n",
    "            levels,\n",
    "            cmap=cm.Reds,\n",
    "            linewidths=1.5)\n",
    "cs.clabel(levels[1::2], fontsize=12)\n",
    "ax2.set_title('Contour Plot', fontsize=18)\n",
    "subplot(nrows, ncols, axis_position, **kwargs)\n"
   ]
  },
  {
   "cell_type": "code",
   "execution_count": null,
   "metadata": {
    "collapsed": false
   },
   "outputs": [],
   "source": [
    "ax1 = subplot(1, 2, 1, projection='3d')\n",
    "ax2 = subplot(1, 2, 2)\n",
    "fig = figure(figsize=(5,6))\n",
    "nrows = 3\n",
    "ncols = 2\n",
    "for i in range(nrows*ncols):\n",
    "    ax = subplot(nrows, ncols, i+1, axisbg='Bisque')\n",
    "    axis([0,10,0,5])\n",
    "    text(1, 2.2, 'subplot({},{},{})'.format(nrows, ncols, i+1),\n",
    "         fontsize=14, color='Brown')"
   ]
  },
  {
   "cell_type": "markdown",
   "metadata": {},
   "source": [
    "# Animations"
   ]
  },
  {
   "cell_type": "code",
   "execution_count": 2,
   "metadata": {
    "collapsed": false
   },
   "outputs": [],
   "source": [
    "%matplotlib inline\n",
    "import matplotlib.pyplot as plt\n",
    "import numpy as np\n",
    "import matplotlib.patches as patches\n",
    "import matplotlib.lines as lines\n",
    "from scipy.integrate import ode\n",
    "from IPython.display import display, clear_output\n",
    "import time"
   ]
  },
  {
   "cell_type": "code",
   "execution_count": 3,
   "metadata": {
    "collapsed": true
   },
   "outputs": [],
   "source": [
    "def draw_pendulum(ax, theta, length=5, radius=1):\n",
    "    v = length * np.array([np.sin(theta), -np.cos(theta)])\n",
    "    ax.axhline(0.0, color='Brown', lw=5, zorder=0)\n",
    "    rod = lines.Line2D([0.0, v[0]], [0.0, v[1]], \n",
    "                       lw=4, color='DarkGray', zorder=1)\n",
    "    bob = patches.Circle(v, radius, \n",
    "                         fc='DodgerBlue', ec='DarkSlateGray', \n",
    "                         lw=1.5, zorder=3)\n",
    "    peg = patches.Circle([0.0, 0.0], 0.3, \n",
    "                         fc='black', zorder=2)\n",
    "    ax.add_patch(bob)\n",
    "    ax.add_patch(peg)\n",
    "    ax.add_line(rod)\n",
    "    return ax"
   ]
  },
  {
   "cell_type": "code",
   "execution_count": 5,
   "metadata": {
    "collapsed": false
   },
   "outputs": [
    {
     "data": {
      "text/plain": [
       "[]"
      ]
     },
     "execution_count": 5,
     "metadata": {},
     "output_type": "execute_result"
    },
    {
     "data": {
      "image/png": "[encoded data removed]",
      "text/plain": [
       "<matplotlib.figure.Figure at 0x70fe748>"
      ]
     },
     "metadata": {},
     "output_type": "display_data"
    }
   ],
   "source": [
    "fig = plt.figure(figsize=(5,5))\n",
    "ax = fig.add_subplot(1, 1, 1)\n",
    "ax.set_aspect('equal')\n",
    "ax.set_xlim(-10,10)\n",
    "ax.set_ylim(-20,0.5)\n",
    "draw_pendulum(ax, np.pi / 10, length=15, radius=0.5)\n",
    "ax.set_xticks([])\n",
    "ax.set_yticks([])"
   ]
  },
  {
   "cell_type": "code",
   "execution_count": 6,
   "metadata": {
    "collapsed": false
   },
   "outputs": [
    {
     "data": {
      "text/plain": [
       "<scipy.integrate._ode.ode at 0x7242358>"
      ]
     },
     "execution_count": 6,
     "metadata": {},
     "output_type": "execute_result"
    }
   ],
   "source": [
    "def pendulum_eq(t, x, c=1, f=lambda t:0.0):\n",
    "    theta, omega = x\n",
    "    return np.array([omega,\n",
    "                     -np.sin(theta) - c * omega + f(t)], \n",
    "                    dtype=np.float64)\n",
    "solver = ode(pendulum_eq)\n",
    "solver.set_integrator('lsoda')\n",
    "c = 0.3\n",
    "f = lambda t: 2.0 * np.sin(3 * t)\n",
    "solver.set_f_params(c, f)"
   ]
  },
  {
   "cell_type": "code",
   "execution_count": 9,
   "metadata": {
    "collapsed": false
   },
   "outputs": [
    {
     "data": {
      "image/png": "[encoded data removed]",
      "text/plain": [
       "<matplotlib.figure.Figure at 0x73d38d0>"
      ]
     },
     "metadata": {},
     "output_type": "display_data"
    }
   ],
   "source": [
    "tmax = 20.0\n",
    "dt = 0.2\n",
    "\n",
    "fig = plt.figure(1,figsize=(5,5))\n",
    "ax = plt.subplot(1,1,1)\n",
    "ax.set_aspect('equal')\n",
    "ax.set_xlim(-10,10)\n",
    "ax.set_ylim(-20,0.5)\n",
    "xtext = -9\n",
    "ytext = -2\n",
    "dytext = -1.0\n",
    "\n",
    "ic = np.array([0.0, 0.3])\n",
    "solver.set_initial_value(ic, 0.0)\n",
    "while True:\n",
    "    clear_output(wait=True)\n",
    "    time.sleep(1./20)\n",
    "    t = solver.t\n",
    "    if t > tmax:\n",
    "        break\n",
    "    theta, omega = solver.integrate(t + dt)\n",
    "    if not solver.successful():\n",
    "        print('Solver interrupted')\n",
    "        break\n",
    "    ax.clear()\n",
    "    ax.set_xticks([])\n",
    "    ax.set_yticks([])\n",
    "    ax.text(xtext, ytext, r'$t={:5.2f}$'.format(t))\n",
    "    ax.text(xtext, ytext + dytext, \n",
    "            r'$\\theta={:5.2f}$'.format(theta))\n",
    "    ax.text(xtext, ytext + 2 * dytext, \n",
    "            r'$\\dot{{\\theta}}={:5.2f}$'.format(omega))\n",
    "    draw_pendulum(ax, theta=theta, length=15, radius=0.5)\n",
    "    display(fig)\n",
    "    plt.close()"
   ]
  },
  {
   "cell_type": "code",
   "execution_count": 11,
   "metadata": {
    "collapsed": false
   },
   "outputs": [],
   "source": [
    "while True:\n",
    "    clear_output(wait=True)\n",
    "    time.sleep(1./20)\n",
    "    t = solver.t\n",
    "    if t > tmax:\n",
    "        break\n",
    "\n",
    "\n",
    "    display(fig)\n",
    "    plt.close()"
   ]
  },
  {
   "cell_type": "code",
   "execution_count": null,
   "metadata": {
    "collapsed": true
   },
   "outputs": [],
   "source": []
  }
 ],
 "metadata": {
  "kernelspec": {
   "display_name": "Python 3",
   "language": "python",
   "name": "python3"
  },
  "language_info": {
   "codemirror_mode": {
    "name": "ipython",
    "version": 3
   },
   "file_extension": ".py",
   "mimetype": "text/x-python",
   "name": "python",
   "nbconvert_exporter": "python",
   "pygments_lexer": "ipython3",
   "version": "3.5.0"
  }
 },
 "nbformat": 4,
 "nbformat_minor": 0
}
