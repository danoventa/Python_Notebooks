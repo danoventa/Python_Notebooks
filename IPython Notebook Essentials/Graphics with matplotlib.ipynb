{
 "cells": [
  {
   "cell_type": "markdown",
   "metadata": {},
   "source": [
    "# Graphics with matplotlib\n",
    "## The plit function"
   ]
  },
  {
   "cell_type": "code",
   "execution_count": null,
   "metadata": {
    "collapsed": false
   },
   "outputs": [],
   "source": [
    "%pylab inline\n",
    "import matplotlib\n",
    "import numpy"
   ]
  },
  {
   "cell_type": "code",
   "execution_count": null,
   "metadata": {
    "collapsed": true
   },
   "outputs": [],
   "source": [
    "def make_logistic(r, a, b, c):\n",
    "    def f_logistic(t):\n",
    "        return a/(b + c * exp(-r * t))\n",
    "    return f_logistic"
   ]
  },
  {
   "cell_type": "code",
   "execution_count": null,
   "metadata": {
    "collapsed": false
   },
   "outputs": [],
   "source": [
    "r = 0.15\n",
    "a = 20.0\n",
    "c = 15.0\n",
    "b1, b2, b3 = 2.0, 3.0, 4.0\n",
    "logistic1 = make_logistic(r, a, b1, c)\n",
    "logistic2 = make_logistic(r, a, b2, c)\n",
    "logistic3 = make_logistic(r, a, b3, c)"
   ]
  },
  {
   "cell_type": "code",
   "execution_count": null,
   "metadata": {
    "collapsed": false
   },
   "outputs": [],
   "source": [
    "tmax = 40\n",
    "tvalues = linspace(0, tmax, 300)\n",
    "plot(tvalues, logistic1(tvalues))\n",
    "plot(tvalues, logistic2(tvalues))\n",
    "plot(tvalues, logistic3(tvalues))"
   ]
  },
  {
   "cell_type": "code",
   "execution_count": null,
   "metadata": {
    "collapsed": false
   },
   "outputs": [],
   "source": [
    "plot(tvalues, logistic1(tvalues), \n",
    "     linewidth=1.5, color='DarkGreen', linestyle='-',\n",
    "     marker='o', markevery=50, markerfacecolor='GreenYellow',\n",
    "     markersize=10.0) \n",
    "plot(tvalues, logistic2(tvalues), \n",
    "     linewidth=2.0, color='#8B0000', linestyle=':',\n",
    "     marker='s', markevery=50, markerfacecolor='Salmon',\n",
    "     markersize=10.0)  \n",
    "plot(tvalues, logistic3(tvalues), \n",
    "     linewidth=2.0, color=(0.0, 0.0, 0.5), linestyle='--',\n",
    "     marker = '*', markevery=50, markerfacecolor='SkyBlue',\n",
    "     markersize=12.0)\n",
    "axis([0, tmax, 0, 11.])\n",
    "None"
   ]
  },
  {
   "cell_type": "code",
   "execution_count": null,
   "metadata": {
    "collapsed": false
   },
   "outputs": [],
   "source": [
    "title('Logistic growth: a={:5.2f}, c={:5.2f}, r={:5.2f}'.format(a, c, r))\n",
    "xlabel('$t$')\n",
    "ylabel('$N(t)=a/(b+ce^{-rt})$')"
   ]
  },
  {
   "cell_type": "code",
   "execution_count": null,
   "metadata": {
    "collapsed": false
   },
   "outputs": [],
   "source": [
    "title('Logistic growth: a={:5.2f}, b={:5.2f}, r={:5.2f}'.format(a, c, r)) \n"
   ]
  },
  {
   "cell_type": "code",
   "execution_count": null,
   "metadata": {
    "collapsed": false
   },
   "outputs": [],
   "source": [
    "xlabel('$t$')\n",
    "ylabel('$N(t)=a/(b+ce^{-rt})$')"
   ]
  },
  {
   "cell_type": "code",
   "execution_count": null,
   "metadata": {
    "collapsed": false
   },
   "outputs": [],
   "source": [
    "legend(['b={:5.2f}'.format(b1),\n",
    "        'b={:5.2f}'.format(b2),\n",
    "        'b={:5.2f}'.format(b3)])"
   ]
  },
  {
   "cell_type": "code",
   "execution_count": null,
   "metadata": {
    "collapsed": false
   },
   "outputs": [],
   "source": [
    "legend(['b={:5.2f}'.format(b1),\n",
    "        'b={:5.2f}'.format(b2),\n",
    "        'b={:5.2f}'.format(b3)], loc='upper left')"
   ]
  },
  {
   "cell_type": "code",
   "execution_count": null,
   "metadata": {
    "collapsed": true
   },
   "outputs": [],
   "source": [
    "f = lambda x:  (x**3 - 6*x**2 + 9*x + 3) / (1 + 0.25*x**2)\n",
    "xvalues = linspace(0, 5, 200)"
   ]
  },
  {
   "cell_type": "code",
   "execution_count": null,
   "metadata": {
    "collapsed": false
   },
   "outputs": [],
   "source": [
    "plot(xvalues, f(xvalues), lw=2, color='FireBrick')\n",
    "axis([0, 5, -1, 8])\n",
    "grid()\n",
    "xlabel('$x$')\n",
    "ylabel('$f(x)$')\n",
    "title('Extreme values of a function')\n",
    "None # Prevent text output"
   ]
  },
  {
   "cell_type": "code",
   "execution_count": null,
   "metadata": {
    "collapsed": false
   },
   "outputs": [],
   "source": [
    "x_min = 3.213\n",
    "f_min = f(x_min)\n",
    "x_max = 0.698\n",
    "f_max = f(x_max)\n",
    "p_min = array([x_min, f_min])\n",
    "p_max = array([x_max, f_max])\n",
    "print( p_min)\n",
    "print(p_max)"
   ]
  },
  {
   "cell_type": "code",
   "execution_count": null,
   "metadata": {
    "collapsed": false
   },
   "outputs": [],
   "source": [
    "bbox_props = dict(boxstyle='round', lw=2, fc='Beige')\n",
    "text(2, 6, 'Maximum and minimum points\\nhave horizontal tangents', \n",
    "     bbox=bbox_props, fontsize=12, verticalalignment='top')\n",
    "plot([x_min-0.75, x_min+0.75], [f_min, f_min],\n",
    "     color='RoyalBlue', lw=3)\n",
    "plot([x_max-0.75, x_max+0.75], [f_max, f_max],\n",
    "     color='RoyalBlue', lw=3)\n",
    "arrow_props = dict(facecolor='DimGray', width=3, shrink=0.05, \n",
    "              headwidth=7)\n",
    "delta = array([0.1, 0.1])\n",
    "offset = array([1.0, .85])\n",
    "annotate('Maximum', xy=p_max+delta, xytext=p_max+offset,\n",
    "         arrowprops=arrow_props, verticalalignment='bottom',\n",
    "         horizontalalignment='left', fontsize=13)\n",
    "annotate('Minimum', xy=p_min-delta, xytext=p_min-offset,\n",
    "         arrowprops=arrow_props, verticalalignment='top',\n",
    "         horizontalalignment='right', fontsize=13)\n",
    "plot(xvalues, f(xvalues), lw=2, color='FireBrick')\n",
    "axis([0, 5, -1, 8])\n",
    "grid()\n",
    "xlabel('$x$')\n",
    "ylabel('$f(x)$')\n",
    "title('Extreme values of a function')\n",
    "None # Prevent text output"
   ]
  },
  {
   "cell_type": "markdown",
   "metadata": {},
   "source": [
    "# Three-dimensional plots"
   ]
  },
  {
   "cell_type": "code",
   "execution_count": null,
   "metadata": {
    "collapsed": true
   },
   "outputs": [],
   "source": [
    "from mpl_toolkits.mplot3d import axes3d\n"
   ]
  },
  {
   "cell_type": "code",
   "execution_count": null,
   "metadata": {
    "collapsed": false
   },
   "outputs": [],
   "source": [
    "def dist(x, y):\n",
    "    return sqrt(x**2 + y**2) \n",
    "def fsurface(x, y):\n",
    "    d = sqrt(x**2 + y**2)\n",
    "    c = 5.0\n",
    "    r = 7.5\n",
    "    return c - (d**4 - r * d**2)\n",
    "\n",
    "xybound = 2.5\n",
    "fig = figure(figsize=(8,8))\n",
    "ax = subplot(1, 1, 1, projection='3d')\n",
    "X = linspace(-xybound, xybound, 25)\n",
    "Y = linspace(-xybound, xybound, 25)\n",
    "X, Y = meshgrid(X, Y)\n",
    "Z = fsurface(X,Y)\n",
    "ax.plot_surface(X, Y, Z, rstride=1, cstride=1, cmap=cm.coolwarm,\n",
    "                antialiased=True, linewidth=0.2)\n",
    "ax.set_xlabel(r'$x$')\n",
    "ax.set_ylabel(r'$y$')\n",
    "ax.set_zlabel(r'$f(x,y)$')\n",
    "None #Prevent text output"
   ]
  },
  {
   "cell_type": "code",
   "execution_count": null,
   "metadata": {
    "collapsed": false
   },
   "outputs": [],
   "source": [
    "fig = figure(figsize(20,8))\n",
    "ax1 = subplot(1, 2, 1, projection='3d')\n",
    "X = linspace(-xybound, xybound, 100)\n",
    "Y = linspace(-xybound, xybound, 100)\n",
    "X, Y = np.meshgrid(X, Y)\n",
    "Z = fsurface(X,Y)\n",
    "ax1 = subplot(1, 2, 1, projection='3d')\n",
    "ax2 = subplot(1, 2, 2)\n",
    "ax1.plot_surface(X, Y, Z, rstride=5, cstride=5, cmap=cm.coolwarm,\n",
    "                antialiased=True, linewidth=0.2)\n",
    "ax1.set_xlabel(r'$x$')\n",
    "ax1.set_ylabel(r'$y$')\n",
    "ax1.set_zlabel(r'$f(x,y)$')\n",
    "ax1.set_title('A surface plot', fontsize=18)\n",
    "ax2 = subplot(1, 2, 2)\n",
    "ax2.set_aspect('equal')\n",
    "\n",
    "levels = arange(5, 20, 2.5)\n",
    "cs = ax2.contour(X, Y, Z,\n",
    "            levels,\n",
    "            cmap=cm.Reds,\n",
    "            linewidths=1.5)\n",
    "cs.clabel(levels[1::2], fontsize=12)\n",
    "ax2.set_title('Contour Plot', fontsize=18)\n",
    "subplot(nrows, ncols, axis_position, **kwargs)\n"
   ]
  },
  {
   "cell_type": "code",
   "execution_count": null,
   "metadata": {
    "collapsed": false
   },
   "outputs": [],
   "source": [
    "ax1 = subplot(1, 2, 1, projection='3d')\n",
    "ax2 = subplot(1, 2, 2)\n",
    "fig = figure(figsize=(5,6))\n",
    "nrows = 3\n",
    "ncols = 2\n",
    "for i in range(nrows*ncols):\n",
    "    ax = subplot(nrows, ncols, i+1, axisbg='Bisque')\n",
    "    axis([0,10,0,5])\n",
    "    text(1, 2.2, 'subplot({},{},{})'.format(nrows, ncols, i+1),\n",
    "         fontsize=14, color='Brown')"
   ]
  },
  {
   "cell_type": "markdown",
   "metadata": {},
   "source": [
    "# Animations"
   ]
  },
  {
   "cell_type": "code",
   "execution_count": null,
   "metadata": {
    "collapsed": true
   },
   "outputs": [],
   "source": []
  }
 ],
 "metadata": {
  "kernelspec": {
   "display_name": "Python 3",
   "language": "python",
   "name": "python3"
  },
  "language_info": {
   "codemirror_mode": {
    "name": "ipython",
    "version": 3
   },
   "file_extension": ".py",
   "mimetype": "text/x-python",
   "name": "python",
   "nbconvert_exporter": "python",
   "pygments_lexer": "ipython3",
   "version": "3.5.0"
  }
 },
 "nbformat": 4,
 "nbformat_minor": 0
}
