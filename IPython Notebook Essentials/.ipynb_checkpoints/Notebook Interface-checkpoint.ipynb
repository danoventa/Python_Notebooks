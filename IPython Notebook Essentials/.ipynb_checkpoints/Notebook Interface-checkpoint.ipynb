{
 "cells": [
  {
   "cell_type": "code",
   "execution_count": 7,
   "metadata": {
    "collapsed": false
   },
   "outputs": [
    {
     "name": "stdout",
     "output_type": "stream",
     "text": [
      "Populating the interactive namespace from numpy and matplotlib\n"
     ]
    }
   ],
   "source": [
    "import numpy\n",
    "import matplotlib\n",
    "\n",
    "%pylab inline"
   ]
  },
  {
   "cell_type": "code",
   "execution_count": 10,
   "metadata": {
    "collapsed": true
   },
   "outputs": [],
   "source": [
    "def return_on_investment(principal, interest_rate, number_of_years):\n",
    "    return principal * e ** (interest_rate * number_of_years)"
   ]
  },
  {
   "cell_type": "code",
   "execution_count": 11,
   "metadata": {
    "collapsed": true
   },
   "outputs": [],
   "source": [
    "principal = 250\n",
    "interest_rate = .034\n",
    "tstart = 0.0\n",
    "tend = 5.0\n",
    "npoints = 6"
   ]
  },
  {
   "cell_type": "code",
   "execution_count": 20,
   "metadata": {
    "collapsed": false
   },
   "outputs": [
    {
     "data": {
      "image/png": "[encoded data removed]",
      "text/plain": [
       "<matplotlib.figure.Figure at 0x104fa44a8>"
      ]
     },
     "metadata": {},
     "output_type": "display_data"
    }
   ],
   "source": [
    "tvalues = linspace(tstart, tend, npoints)\n",
    "amount_values = return_on_investment(principal, interest_rate, tvalues)\n",
    "plot(tvalues, amount_values, 'o')\n",
    "title('Return on investment, years {} to {}'.format(tstart, tend))\n",
    "xlabel('Years')\n",
    "ylabel('Return')\n",
    "tstart += tend\n",
    "tend += tend"
   ]
  },
  {
   "cell_type": "code",
   "execution_count": 22,
   "metadata": {
    "collapsed": false
   },
   "outputs": [
    {
     "name": "stdout",
     "output_type": "stream",
     "text": [
      "[  1.67728089e+21   1.73528899e+21   1.79530328e+21   1.85739314e+21\n",
      "   1.92163035e+21   1.98808918e+21]\n"
     ]
    }
   ],
   "source": [
    "print(amount_values)"
   ]
  },
  {
   "cell_type": "code",
   "execution_count": null,
   "metadata": {
    "collapsed": false
   },
   "outputs": [],
   "source": []
  },
  {
   "cell_type": "markdown",
   "metadata": {},
   "source": [
    "We want to know how an investment grows with a fixed interest.\n",
    "\n",
    "The *compound interest* formula states that:\n",
    "$$R = Pe^{rt}$$\n",
    "where:\n",
    "\n",
    "- $P$ is the principal (initial investment).\n",
    "- $r$ is the annual interest rate, as a decimal.\n",
    "- $t$ is the time in years.\n",
    "- $e$ is the base of natural logarithms.\n",
    "- $R$ is the total return after $t$ years (including principal)\n",
    "\n",
    "For details, see the [corresponding Wikipedia entry](http://en.wikipedia.org/wiki/Compound_interest).\n",
    "\n",
    "We start by defining a Python function that implements this formula."
   ]
  },
  {
   "cell_type": "markdown",
   "metadata": {},
   "source": [
    "# Dan\n",
    "## Dan\n",
    "### Dan\n",
    "#### Dan\n",
    "##### Dan\n",
    "###### Dan"
   ]
  },
  {
   "cell_type": "code",
   "execution_count": null,
   "metadata": {
    "collapsed": true
   },
   "outputs": [],
   "source": []
  }
 ],
 "metadata": {
  "kernelspec": {
   "display_name": "Python 3",
   "language": "python",
   "name": "python3"
  },
  "language_info": {
   "codemirror_mode": {
    "name": "ipython",
    "version": 3
   },
   "file_extension": ".py",
   "mimetype": "text/x-python",
   "name": "python",
   "nbconvert_exporter": "python",
   "pygments_lexer": "ipython3",
   "version": "3.5.0"
  }
 },
 "nbformat": 4,
 "nbformat_minor": 0
}
