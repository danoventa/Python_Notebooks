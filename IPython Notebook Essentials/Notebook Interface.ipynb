{
 "cells": [
  {
   "cell_type": "code",
   "execution_count": null,
   "metadata": {
    "collapsed": false
   },
   "outputs": [],
   "source": [
    "import numpy\n",
    "import matplotlib\n",
    "\n",
    "%pylab inline"
   ]
  },
  {
   "cell_type": "code",
   "execution_count": null,
   "metadata": {
    "collapsed": true
   },
   "outputs": [],
   "source": [
    "def return_on_investment(principal, interest_rate, number_of_years):\n",
    "    return principal * e ** (interest_rate * number_of_years)"
   ]
  },
  {
   "cell_type": "code",
   "execution_count": null,
   "metadata": {
    "collapsed": true
   },
   "outputs": [],
   "source": [
    "principal = 250\n",
    "interest_rate = .034\n",
    "tstart = 0.0\n",
    "tend = 5.0\n",
    "npoints = 6"
   ]
  },
  {
   "cell_type": "code",
   "execution_count": null,
   "metadata": {
    "collapsed": false
   },
   "outputs": [],
   "source": [
    "tvalues = linspace(tstart, tend, npoints)\n",
    "amount_values = return_on_investment(principal, interest_rate, tvalues)\n",
    "plot(tvalues, amount_values, 'o')\n",
    "title('Return on investment, years {} to {}'.format(tstart, tend))\n",
    "xlabel('Years')\n",
    "ylabel('Return')\n",
    "tstart += tend\n",
    "tend += tend"
   ]
  },
  {
   "cell_type": "code",
   "execution_count": null,
   "metadata": {
    "collapsed": false
   },
   "outputs": [],
   "source": [
    "print(amount_values)"
   ]
  },
  {
   "cell_type": "code",
   "execution_count": null,
   "metadata": {
    "collapsed": false
   },
   "outputs": [],
   "source": []
  },
  {
   "cell_type": "markdown",
   "metadata": {},
   "source": [
    "We want to know how an investment grows with a fixed interest.\n",
    "\n",
    "The *compound interest* formula states that:\n",
    "$$R = Pe^{rt}$$\n",
    "where:\n",
    "\n",
    "- $P$ is the principal (initial investment).\n",
    "- $r$ is the annual interest rate, as a decimal.\n",
    "- $t$ is the time in years.\n",
    "- $e$ is the base of natural logarithms.\n",
    "- $R$ is the total return after $t$ years (including principal)\n",
    "\n",
    "For details, see the [corresponding Wikipedia entry](http://en.wikipedia.org/wiki/Compound_interest).\n",
    "\n",
    "We start by defining a Python function that implements this formula."
   ]
  },
  {
   "cell_type": "markdown",
   "metadata": {},
   "source": [
    "# Dan\n",
    "## Dan\n",
    "### Dan\n",
    "#### Dan\n",
    "##### Dan\n",
    "###### Dan"
   ]
  },
  {
   "cell_type": "code",
   "execution_count": null,
   "metadata": {
    "collapsed": false
   },
   "outputs": [],
   "source": [
    "%autosave 300"
   ]
  },
  {
   "cell_type": "code",
   "execution_count": null,
   "metadata": {
    "collapsed": false
   },
   "outputs": [],
   "source": [
    "!dir"
   ]
  },
  {
   "cell_type": "code",
   "execution_count": null,
   "metadata": {
    "collapsed": false
   },
   "outputs": [],
   "source": [
    "!ls"
   ]
  },
  {
   "cell_type": "code",
   "execution_count": null,
   "metadata": {
    "collapsed": false
   },
   "outputs": [],
   "source": [
    "%ls"
   ]
  },
  {
   "cell_type": "code",
   "execution_count": null,
   "metadata": {
    "collapsed": false
   },
   "outputs": [],
   "source": [
    "%echo %PATH%"
   ]
  },
  {
   "cell_type": "code",
   "execution_count": null,
   "metadata": {
    "collapsed": false
   },
   "outputs": [],
   "source": [
    "%alias show_path echo %PATH%"
   ]
  },
  {
   "cell_type": "code",
   "execution_count": null,
   "metadata": {
    "collapsed": false
   },
   "outputs": [],
   "source": [
    "show_path"
   ]
  },
  {
   "cell_type": "markdown",
   "metadata": {},
   "source": [
    "# Running Scripts, loading data, and saving data"
   ]
  },
  {
   "cell_type": "code",
   "execution_count": null,
   "metadata": {
    "collapsed": false
   },
   "outputs": [],
   "source": [
    "%pwd"
   ]
  },
  {
   "cell_type": "code",
   "execution_count": null,
   "metadata": {
    "collapsed": false
   },
   "outputs": [],
   "source": [
    "%run lorenz.py"
   ]
  },
  {
   "cell_type": "code",
   "execution_count": null,
   "metadata": {
    "collapsed": false
   },
   "outputs": [],
   "source": [
    "%%SVG\n",
    "<svg width=\"400\" height=\"300\">\n",
    "    <circle  cx=\"200\" cy=\"150\" r=\"100\"\n",
    "        style=\"fill:Wheat; stroke:SteelBlue; stroke-width:5;\"/>\n",
    "    <line x1=\"10\" y1=\"10\" x2=\"250\" y2=\"85\"\n",
    "        style=\"stroke:SlateBlue; stroke-width:4\"/>\n",
    "    <polyline points=\"20,30 50,70 100,25 200,120\"\n",
    "        style=\"stroke:orange; stroke-width:3; \n",
    "               fill:olive; opacity:0.65;\"/>\n",
    "    <rect x=\"30\" y=\"150\" width=\"120\" height=\"75\"\n",
    "        style=\"stroke:Navy; stroke-width:4; fill:LightSkyBlue;\"/>\n",
    "    <ellipse cx=\"310\" cy=\"220\" rx=\"55\" ry=\"75\"\n",
    "        style=\"stroke:DarkSlateBlue; stroke-width:4;\n",
    "               fill:DarkOrange; fill-opacity:0.45;\"/>\n",
    "    <polygon points=\"50,50 15,100 75,200 45,100\"\n",
    "        style=\"stroke:DarkTurquoise; stroke-width:5; fill:Beige;\"/>\n",
    "</svg>"
   ]
  },
  {
   "cell_type": "code",
   "execution_count": null,
   "metadata": {
    "collapsed": false
   },
   "outputs": [],
   "source": [
    "%%html\n",
    "<h1 id=\"hellodisplay\">Hello, world!</h1>"
   ]
  },
  {
   "cell_type": "code",
   "execution_count": null,
   "metadata": {
    "collapsed": false
   },
   "outputs": [],
   "source": [
    "%%javascript\n",
    "element = document.getElementById(\"hellodisplay\")\n",
    "element.style.color = 'green'"
   ]
  },
  {
   "cell_type": "code",
   "execution_count": null,
   "metadata": {
    "collapsed": false
   },
   "outputs": [],
   "source": [
    "%%script julia\n",
    "function factorial(n::Int)\n",
    "    fact = 1\n",
    "    for k=1:n\n",
    "      fact *= k\n",
    "    end\n",
    "    fact\n",
    "end\n",
    "\n",
    "println(factorial(10))"
   ]
  },
  {
   "cell_type": "code",
   "execution_count": null,
   "metadata": {
    "collapsed": false
   },
   "outputs": [],
   "source": [
    "%pylab inline\n",
    "A = rand(5, 10)\n",
    "print(A)\n",
    "save('random_array.npy', A)"
   ]
  },
  {
   "cell_type": "code",
   "execution_count": null,
   "metadata": {
    "collapsed": true
   },
   "outputs": [],
   "source": [
    "del A"
   ]
  },
  {
   "cell_type": "code",
   "execution_count": null,
   "metadata": {
    "collapsed": false
   },
   "outputs": [],
   "source": [
    "A = load('random_array.npy')"
   ]
  },
  {
   "cell_type": "code",
   "execution_count": null,
   "metadata": {
    "collapsed": false
   },
   "outputs": [],
   "source": [
    "A"
   ]
  },
  {
   "cell_type": "code",
   "execution_count": null,
   "metadata": {
    "collapsed": false
   },
   "outputs": [],
   "source": [
    "xvalues = arange(0.0, 10.0, 0.5)\n",
    "xsquares = xvalues ** 2\n",
    "print(xvalues)\n",
    "print(xsquares)\n",
    "savez('values_and_squares.npz', values=xvalues, squares=xsquares)"
   ]
  },
  {
   "cell_type": "code",
   "execution_count": null,
   "metadata": {
    "collapsed": true
   },
   "outputs": [],
   "source": [
    "my_data = load('values_and_squares.npz')"
   ]
  },
  {
   "cell_type": "code",
   "execution_count": null,
   "metadata": {
    "collapsed": false
   },
   "outputs": [],
   "source": [
    "my_data.files\n"
   ]
  },
  {
   "cell_type": "code",
   "execution_count": null,
   "metadata": {
    "collapsed": false
   },
   "outputs": [],
   "source": [
    "xvalues = my_data['values']\n",
    "xsquares = my_data['squares']\n",
    "plot(xvalues, xsquares)"
   ]
  },
  {
   "cell_type": "code",
   "execution_count": null,
   "metadata": {
    "collapsed": false
   },
   "outputs": [],
   "source": [
    "from IPython.display import Image\n",
    "Image('character.png')"
   ]
  },
  {
   "cell_type": "code",
   "execution_count": null,
   "metadata": {
    "collapsed": false
   },
   "outputs": [],
   "source": [
    "Image('http://www.imagesource.com/Doc/IS0/Media/TR5/7/7/f/4/IS09A9H4K.jpg')\n"
   ]
  },
  {
   "cell_type": "code",
   "execution_count": null,
   "metadata": {
    "collapsed": false
   },
   "outputs": [],
   "source": [
    "%matplotlib\n",
    "xvalues = linspace(-pi,pi,200)\n",
    "fcts = [('sin', sin), ('cos', cos), ('exp', exp)]\n",
    "for fctname, fct in fcts:\n",
    "    yvalues = fct(xvalues)\n",
    "    fig=figure()\n",
    "    ax = fig.add_subplot(1,1,1)\n",
    "    ax.plot(xvalues, yvalues, color='red')\n",
    "    ax.set_xlabel('$x$')\n",
    "    strname = '$\\\\%s(x)$' % fctname\n",
    "    ax.set_ylabel(strname)\n",
    "    fig.savefig(fctname + '.png')"
   ]
  },
  {
   "cell_type": "code",
   "execution_count": null,
   "metadata": {
    "collapsed": true
   },
   "outputs": [],
   "source": [
    "fig.savefig(fctname + '.png')"
   ]
  },
  {
   "cell_type": "code",
   "execution_count": null,
   "metadata": {
    "collapsed": true
   },
   "outputs": [],
   "source": [
    "html_string = '<table style=\"padding:20px\">\\n'\n",
    "for fctname, fct in fcts:\n",
    "    strname = strname = '$\\\\%s(x)$' % fctname\n",
    "    filename = fctname + '.png'\n",
    "    html_string += '<tr>\\n'\n",
    "    html_string += '<td style=\"width:80px;\">%s</td>\\n' % strname\n",
    "    html_string += '<td style=\"width:500px;\">'\n",
    "    html_string += '<img src=\"%s\">' % filename\n",
    "    html_string += '</td>\\n'\n",
    "    html_string += '</tr>\\n'\n",
    "    html_string += '</table>\\n'\n"
   ]
  },
  {
   "cell_type": "code",
   "execution_count": null,
   "metadata": {
    "collapsed": false
   },
   "outputs": [],
   "source": [
    "print( html_string)"
   ]
  },
  {
   "cell_type": "code",
   "execution_count": null,
   "metadata": {
    "collapsed": false
   },
   "outputs": [],
   "source": [
    "from IPython.display import HTML\n",
    "HTML(html_string)"
   ]
  },
  {
   "cell_type": "code",
   "execution_count": null,
   "metadata": {
    "collapsed": true
   },
   "outputs": [],
   "source": [
    "%matplotlib inline"
   ]
  },
  {
   "cell_type": "code",
   "execution_count": null,
   "metadata": {
    "collapsed": true
   },
   "outputs": [],
   "source": [
    "def make_logistic(r, a, b, c):\n",
    "    def f_logistic(t):\n",
    "        return a / (b + c * exp(-r * t))\n",
    "    return f_logistic"
   ]
  }
 ],
 "metadata": {
  "kernelspec": {
   "display_name": "Python 3",
   "language": "python",
   "name": "python3"
  },
  "language_info": {
   "codemirror_mode": {
    "name": "ipython",
    "version": 3
   },
   "file_extension": ".py",
   "mimetype": "text/x-python",
   "name": "python",
   "nbconvert_exporter": "python",
   "pygments_lexer": "ipython3",
   "version": "3.5.0"
  }
 },
 "nbformat": 4,
 "nbformat_minor": 0
}
