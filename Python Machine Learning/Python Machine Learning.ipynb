{
 "cells": [
  {
   "cell_type": "markdown",
   "metadata": {},
   "source": [
    "<b>Linear Regression: </b> Fit a straight line in the data to minimize distance. Intercept and slope used to predict future outcome. \n",
    "    - Predictor Variable:      X\n",
    "    - Responsive Variable:     Y\n",
    "    \n",
    "    \n",
    "Dimensionality reduction?\n",
    "- Appears to be talking physics! :D"
   ]
  },
  {
   "cell_type": "markdown",
   "metadata": {
    "collapsed": true
   },
   "source": [
    "#### Training Machine Learning:\n",
    "\n",
    "\n"
   ]
  },
  {
   "cell_type": "code",
   "execution_count": 5,
   "metadata": {
    "collapsed": false
   },
   "outputs": [
    {
     "data": {
      "text/plain": [
       "array([[1, 2, 3, 4, 5],\n",
       "       [1, 2, 3, 4, 5]])"
      ]
     },
     "execution_count": 5,
     "metadata": {},
     "output_type": "execute_result"
    }
   ],
   "source": [
    "from numpy import *\n",
    "\n",
    "a = array([(1, 2, 3, 4, 5), (1, 2, 3, 4, 5)])\n",
    "a"
   ]
  },
  {
   "cell_type": "code",
   "execution_count": 10,
   "metadata": {
    "collapsed": false
   },
   "outputs": [
    {
     "data": {
      "text/plain": [
       "array([[[1, 1, 1, 1, 1],\n",
       "        [1, 1, 1, 1, 1],\n",
       "        [1, 1, 1, 1, 1],\n",
       "        [1, 1, 1, 1, 1]],\n",
       "\n",
       "       [[1, 1, 1, 1, 1],\n",
       "        [1, 1, 1, 1, 1],\n",
       "        [1, 1, 1, 1, 1],\n",
       "        [1, 1, 1, 1, 1]],\n",
       "\n",
       "       [[1, 1, 1, 1, 1],\n",
       "        [1, 1, 1, 1, 1],\n",
       "        [1, 1, 1, 1, 1],\n",
       "        [1, 1, 1, 1, 1]]], dtype=int16)"
      ]
     },
     "execution_count": 10,
     "metadata": {},
     "output_type": "execute_result"
    }
   ],
   "source": [
    "b = ones((3, 4, 5), dtype=int16) # x, y, z, type\n",
    "b"
   ]
  },
  {
   "cell_type": "code",
   "execution_count": 12,
   "metadata": {
    "collapsed": false
   },
   "outputs": [
    {
     "data": {
      "text/plain": [
       "array([[  0.00000000e+000,  -3.10503637e+231,   2.15363016e-314],\n",
       "       [  2.15366289e-314,   2.15356585e-314,   2.15366305e-314],\n",
       "       [  2.14442225e-314,   0.00000000e+000,   2.13533252e-314]])"
      ]
     },
     "execution_count": 12,
     "metadata": {},
     "output_type": "execute_result"
    }
   ],
   "source": [
    "empty((3, 3)) # x, y ..."
   ]
  },
  {
   "cell_type": "code",
   "execution_count": 14,
   "metadata": {
    "collapsed": false
   },
   "outputs": [
    {
     "data": {
      "text/plain": [
       "array([ 0. ,  1.2,  2.4,  3.6])"
      ]
     },
     "execution_count": 14,
     "metadata": {},
     "output_type": "execute_result"
    }
   ],
   "source": [
    "arange(0, 4, 1.2) # from to step"
   ]
  },
  {
   "cell_type": "code",
   "execution_count": 15,
   "metadata": {
    "collapsed": false
   },
   "outputs": [
    {
     "data": {
      "text/plain": [
       "array([ 0.   ,  0.375,  0.75 ,  1.125,  1.5  ,  1.875,  2.25 ,  2.625,\n",
       "        3.   ,  3.375,  3.75 ,  4.125,  4.5  ,  4.875,  5.25 ,  5.625,\n",
       "        6.   ,  6.375,  6.75 ,  7.125,  7.5  ,  7.875,  8.25 ,  8.625,  9.   ])"
      ]
     },
     "execution_count": 15,
     "metadata": {},
     "output_type": "execute_result"
    }
   ],
   "source": [
    "linspace(0, 9, 25) # from to howmany"
   ]
  },
  {
   "cell_type": "code",
   "execution_count": 23,
   "metadata": {
    "collapsed": false
   },
   "outputs": [
    {
     "name": "stdout",
     "output_type": "stream",
     "text": [
      "[ 0  1  2  3  4  5  6  7  8  9 10 11 12 13 14]\n",
      "\n",
      "[[ 0  1  2  3  4]\n",
      " [ 5  6  7  8  9]\n",
      " [10 11 12 13 14]]\n",
      "\n",
      "[[[ 0  1  2  3]\n",
      "  [ 4  5  6  7]\n",
      "  [ 8  9 10 11]]\n",
      "\n",
      " [[12 13 14 15]\n",
      "  [16 17 18 19]\n",
      "  [20 21 22 23]]]\n"
     ]
    }
   ],
   "source": [
    "print(arange(15))\n",
    "print(\"\")\n",
    "print(arange(15).reshape(3, 5))\n",
    "print(\"\")\n",
    "print(arange(24).reshape(2, 3, 4))\n",
    "\n",
    "# set_printoptions(threshold='nan') Might come in handy at some point. This will force the \n",
    "# numpy arrays to print the entire thing instead of printing with elipses when the array\n",
    "# is to large. "
   ]
  },
  {
   "cell_type": "code",
   "execution_count": 26,
   "metadata": {
    "collapsed": false
   },
   "outputs": [
    {
     "name": "stdout",
     "output_type": "stream",
     "text": [
      "[20 24 28 32 36]\n"
     ]
    },
    {
     "data": {
      "text/plain": [
       "350"
      ]
     },
     "execution_count": 26,
     "metadata": {},
     "output_type": "execute_result"
    }
   ],
   "source": [
    "aa = array([20, 25, 30, 35, 40])\n",
    "bb = arange(aa.size)\n",
    "cc = aa - bb\n",
    "print(cc)\n",
    "dot(aa, bb)"
   ]
  },
  {
   "cell_type": "code",
   "execution_count": 33,
   "metadata": {
    "collapsed": false
   },
   "outputs": [
    {
     "data": {
      "text/plain": [
       "array([10, 35, 60])"
      ]
     },
     "execution_count": 33,
     "metadata": {},
     "output_type": "execute_result"
    }
   ],
   "source": [
    "arange(15).reshape(3, 5).sum(axis=0) # sum of each col\n",
    "arange(15).reshape(3, 5).sum(axis=1) # sum of each row"
   ]
  },
  {
   "cell_type": "code",
   "execution_count": 32,
   "metadata": {
    "collapsed": false
   },
   "outputs": [
    {
     "data": {
      "text/plain": [
       "array([0, 1, 2, 3, 4])"
      ]
     },
     "execution_count": 32,
     "metadata": {},
     "output_type": "execute_result"
    }
   ],
   "source": [
    "arange(15).reshape(3, 5).min(axis=1) # min of each row\n",
    "arange(15).reshape(3, 5).min(axis=0) # min of each col"
   ]
  },
  {
   "cell_type": "code",
   "execution_count": 35,
   "metadata": {
    "collapsed": false
   },
   "outputs": [
    {
     "data": {
      "text/plain": [
       "array([[ 0,  1,  3,  6, 10],\n",
       "       [ 5, 11, 18, 26, 35],\n",
       "       [10, 21, 33, 46, 60]])"
      ]
     },
     "execution_count": 35,
     "metadata": {},
     "output_type": "execute_result"
    }
   ],
   "source": [
    "araarange(15).reshape(3, 5).min(axis=0) # min of each colnge(15).reshape(3, 5).cumsum(axis=0) # min of each row\n",
    "arange(15).reshape(3, 5).cumsum(axis=1) # min of each col"
   ]
  },
  {
   "cell_type": "code",
   "execution_count": 67,
   "metadata": {
    "collapsed": false
   },
   "outputs": [
    {
     "data": {
      "text/plain": [
       "array([[ 0, 10, 20, 30, 40],\n",
       "       [10, 20, 30, 40, 50],\n",
       "       [20, 30, 40, 50, 60],\n",
       "       [30, 40, 50, 60, 70],\n",
       "       [40, 50, 60, 70, 80],\n",
       "       [50, 60, 70, 80, 90]])"
      ]
     },
     "execution_count": 67,
     "metadata": {},
     "output_type": "execute_result"
    }
   ],
   "source": [
    "def f(x, y):\n",
    "    return 10*(x+y)\n",
    "\n",
    "zeray = fromfunction(f, (6, 5), dtype=int)\n",
    "zeray # row, column"
   ]
  },
  {
   "cell_type": "code",
   "execution_count": 71,
   "metadata": {
    "collapsed": false
   },
   "outputs": [
    {
     "data": {
      "text/plain": [
       "array([[ 0, 10],\n",
       "       [10, 20],\n",
       "       [20, 30],\n",
       "       [30, 40],\n",
       "       [40, 50],\n",
       "       [50, 60]])"
      ]
     },
     "execution_count": 71,
     "metadata": {},
     "output_type": "execute_result"
    }
   ],
   "source": [
    "3 * 9 + (3*8*0.119)\n",
    "\n",
    "zeray[:,0:2]"
   ]
  },
  {
   "cell_type": "code",
   "execution_count": 69,
   "metadata": {
    "collapsed": false
   },
   "outputs": [
    {
     "data": {
      "text/plain": [
       "array([50, 60, 70, 80, 90])"
      ]
     },
     "execution_count": 69,
     "metadata": {},
     "output_type": "execute_result"
    }
   ],
   "source": [
    "zeray[-1]"
   ]
  },
  {
   "cell_type": "code",
   "execution_count": 73,
   "metadata": {
    "collapsed": false
   },
   "outputs": [
    {
     "name": "stdout",
     "output_type": "stream",
     "text": [
      "[ 0 10 20 30 40]\n",
      "[10 20 30 40 50]\n",
      "[20 30 40 50 60]\n",
      "[30 40 50 60 70]\n",
      "[40 50 60 70 80]\n",
      "[50 60 70 80 90]\n"
     ]
    }
   ],
   "source": [
    "for row in zeray: # done with respect to the first axis\n",
    "    print(row)"
   ]
  },
  {
   "cell_type": "code",
   "execution_count": 76,
   "metadata": {
    "collapsed": false
   },
   "outputs": [
    {
     "name": "stdout",
     "output_type": "stream",
     "text": [
      "0\n",
      "10\n",
      "20\n",
      "30\n",
      "40\n",
      "10\n",
      "20\n",
      "30\n",
      "40\n",
      "50\n",
      "20\n",
      "30\n",
      "40\n",
      "50\n",
      "60\n",
      "30\n",
      "40\n",
      "50\n",
      "60\n",
      "70\n",
      "40\n",
      "50\n",
      "60\n",
      "70\n",
      "80\n",
      "50\n",
      "60\n",
      "70\n",
      "80\n",
      "90\n"
     ]
    }
   ],
   "source": [
    "for element in zeray.flat:\n",
    "    print(element)"
   ]
  },
  {
   "cell_type": "code",
   "execution_count": 77,
   "metadata": {
    "collapsed": false
   },
   "outputs": [
    {
     "data": {
      "text/plain": [
       "(6, 5)"
      ]
     },
     "execution_count": 77,
     "metadata": {},
     "output_type": "execute_result"
    }
   ],
   "source": [
    "zeray.shape"
   ]
  },
  {
   "cell_type": "code",
   "execution_count": 78,
   "metadata": {
    "collapsed": false
   },
   "outputs": [
    {
     "data": {
      "text/plain": [
       "array([ 0, 10, 20, 30, 40, 10, 20, 30, 40, 50, 20, 30, 40, 50, 60, 30, 40,\n",
       "       50, 60, 70, 40, 50, 60, 70, 80, 50, 60, 70, 80, 90])"
      ]
     },
     "execution_count": 78,
     "metadata": {},
     "output_type": "execute_result"
    }
   ],
   "source": [
    "zeray.ravel()"
   ]
  },
  {
   "cell_type": "code",
   "execution_count": 79,
   "metadata": {
    "collapsed": false
   },
   "outputs": [
    {
     "data": {
      "text/plain": [
       "array([[ 0, 10, 20, 30, 40, 50],\n",
       "       [10, 20, 30, 40, 50, 60],\n",
       "       [20, 30, 40, 50, 60, 70],\n",
       "       [30, 40, 50, 60, 70, 80],\n",
       "       [40, 50, 60, 70, 80, 90]])"
      ]
     },
     "execution_count": 79,
     "metadata": {},
     "output_type": "execute_result"
    }
   ],
   "source": [
    "zeray.transpose()"
   ]
  },
  {
   "cell_type": "code",
   "execution_count": 82,
   "metadata": {
    "collapsed": false
   },
   "outputs": [
    {
     "data": {
      "text/plain": [
       "array([[ 0, 10, 20, 30, 40, 10, 20, 30, 40, 50],\n",
       "       [20, 30, 40, 50, 60, 30, 40, 50, 60, 70],\n",
       "       [40, 50, 60, 70, 80, 50, 60, 70, 80, 90]])"
      ]
     },
     "execution_count": 82,
     "metadata": {},
     "output_type": "execute_result"
    }
   ],
   "source": [
    "zeray.reshape((3, 10))"
   ]
  },
  {
   "cell_type": "code",
   "execution_count": 83,
   "metadata": {
    "collapsed": false
   },
   "outputs": [
    {
     "data": {
      "text/plain": [
       "array([[ 0, 10, 20, 30, 40],\n",
       "       [10, 20, 30, 40, 50],\n",
       "       [20, 30, 40, 50, 60],\n",
       "       [30, 40, 50, 60, 70],\n",
       "       [40, 50, 60, 70, 80],\n",
       "       [50, 60, 70, 80, 90]])"
      ]
     },
     "execution_count": 83,
     "metadata": {},
     "output_type": "execute_result"
    }
   ],
   "source": [
    "zeray.reshape((6, -1))"
   ]
  },
  {
   "cell_type": "code",
   "execution_count": 84,
   "metadata": {
    "collapsed": false
   },
   "outputs": [
    {
     "data": {
      "text/plain": [
       "array([[ 0, 10, 20, 30, 40],\n",
       "       [10, 20, 30, 40, 50],\n",
       "       [20, 30, 40, 50, 60],\n",
       "       [30, 40, 50, 60, 70],\n",
       "       [40, 50, 60, 70, 80],\n",
       "       [50, 60, 70, 80, 90]])"
      ]
     },
     "execution_count": 84,
     "metadata": {},
     "output_type": "execute_result"
    }
   ],
   "source": [
    "xeray = fromfunction(f, (6, 5), dtype=int)\n",
    "xeray # row, column"
   ]
  },
  {
   "cell_type": "code",
   "execution_count": 91,
   "metadata": {
    "collapsed": false
   },
   "outputs": [
    {
     "data": {
      "text/plain": [
       "array([[  0,  10,  20,  30,  40],\n",
       "       [ 10,  20,  30,  40,  50],\n",
       "       [ 20,  30,  40,  50,  60],\n",
       "       [ 30,  40,  50,  60,  70],\n",
       "       [ 40,  50,  60,  70,  80],\n",
       "       [ 50,  60,  70,  80,  90],\n",
       "       [ 60,  70,  80,  90, 100],\n",
       "       [ 70,  80,  90, 100, 110],\n",
       "       [ 80,  90, 100, 110, 120],\n",
       "       [ 90, 100, 110, 120, 130],\n",
       "       [100, 110, 120, 130, 140],\n",
       "       [110, 120, 130, 140, 150]])"
      ]
     },
     "execution_count": 91,
     "metadata": {},
     "output_type": "execute_result"
    }
   ],
   "source": [
    "yeray = fromfunction(f, (12, 5), dtype=int)\n",
    "yeray # row, column"
   ]
  },
  {
   "cell_type": "code",
   "execution_count": 90,
   "metadata": {
    "collapsed": false
   },
   "outputs": [
    {
     "data": {
      "text/plain": [
       "array([[ 0, 10, 20, 30, 40],\n",
       "       [10, 20, 30, 40, 50],\n",
       "       [20, 30, 40, 50, 60],\n",
       "       [30, 40, 50, 60, 70],\n",
       "       [40, 50, 60, 70, 80],\n",
       "       [50, 60, 70, 80, 90],\n",
       "       [ 0, 10, 20, 30, 40],\n",
       "       [10, 20, 30, 40, 50],\n",
       "       [20, 30, 40, 50, 60],\n",
       "       [30, 40, 50, 60, 70],\n",
       "       [40, 50, 60, 70, 80],\n",
       "       [50, 60, 70, 80, 90]])"
      ]
     },
     "execution_count": 90,
     "metadata": {},
     "output_type": "execute_result"
    }
   ],
   "source": [
    "c_ray = vstack((zeray, xeray))\n",
    "c_ray"
   ]
  },
  {
   "cell_type": "code",
   "execution_count": 92,
   "metadata": {
    "collapsed": false
   },
   "outputs": [
    {
     "data": {
      "text/plain": [
       "array([[  0,  10,  20,  30,  40,   0,  10,  20,  30,  40],\n",
       "       [ 10,  20,  30,  40,  50,  10,  20,  30,  40,  50],\n",
       "       [ 20,  30,  40,  50,  60,  20,  30,  40,  50,  60],\n",
       "       [ 30,  40,  50,  60,  70,  30,  40,  50,  60,  70],\n",
       "       [ 40,  50,  60,  70,  80,  40,  50,  60,  70,  80],\n",
       "       [ 50,  60,  70,  80,  90,  50,  60,  70,  80,  90],\n",
       "       [  0,  10,  20,  30,  40,  60,  70,  80,  90, 100],\n",
       "       [ 10,  20,  30,  40,  50,  70,  80,  90, 100, 110],\n",
       "       [ 20,  30,  40,  50,  60,  80,  90, 100, 110, 120],\n",
       "       [ 30,  40,  50,  60,  70,  90, 100, 110, 120, 130],\n",
       "       [ 40,  50,  60,  70,  80, 100, 110, 120, 130, 140],\n",
       "       [ 50,  60,  70,  80,  90, 110, 120, 130, 140, 150]])"
      ]
     },
     "execution_count": 92,
     "metadata": {},
     "output_type": "execute_result"
    }
   ],
   "source": [
    "hstack((c_ray, yeray))"
   ]
  },
  {
   "cell_type": "code",
   "execution_count": 93,
   "metadata": {
    "collapsed": true
   },
   "outputs": [],
   "source": [
    "x, y = 5, 6\n",
    "\n",
    "def funny_matrix(xs, ys, loops):\n",
    "    if loops == 0:\n",
    "        return (xs, ys)\n",
    "    elif loops % 2 == 0:\n",
    "        return (xs, ys*2)\n",
    "    else:\n",
    "        return (xs*2, ys)\n",
    "\n",
    "count = 0\n",
    "while count < 10:\n",
    "    count += 1\n",
    "    if count % 2 == 0 and not count == 0:\n",
    "        pass\n",
    "# play with h stack vstack building new arrays.\n",
    "# column_stack works for 1D Arrays\n",
    "# row_stack does tha same with rows added to the 2d array"
   ]
  },
  {
   "cell_type": "code",
   "execution_count": 101,
   "metadata": {
    "collapsed": false
   },
   "outputs": [
    {
     "data": {
      "text/plain": [
       "[array([[ 0, 10, 20, 30, 40],\n",
       "        [10, 20, 30, 40, 50],\n",
       "        [20, 30, 40, 50, 60],\n",
       "        [30, 40, 50, 60, 70]]), array([[40, 50, 60, 70, 80],\n",
       "        [50, 60, 70, 80, 90],\n",
       "        [ 0, 10, 20, 30, 40],\n",
       "        [10, 20, 30, 40, 50]]), array([[20, 30, 40, 50, 60],\n",
       "        [30, 40, 50, 60, 70],\n",
       "        [40, 50, 60, 70, 80],\n",
       "        [50, 60, 70, 80, 90]])]"
      ]
     },
     "execution_count": 101,
     "metadata": {},
     "output_type": "execute_result"
    }
   ],
   "source": [
    "hsplit(c_ray, 5) # horizontal split\n",
    "vsplit(c_ray, 3) # Vertical split"
   ]
  },
  {
   "cell_type": "code",
   "execution_count": 96,
   "metadata": {
    "collapsed": true
   },
   "outputs": [],
   "source": [
    "a = floor(10*random.random((2,12)))"
   ]
  },
  {
   "cell_type": "code",
   "execution_count": 97,
   "metadata": {
    "collapsed": false
   },
   "outputs": [
    {
     "data": {
      "text/plain": [
       "array([[ 9.,  0.,  2.,  2.,  9.,  8.,  0.,  6.,  3.,  0.,  7.,  3.],\n",
       "       [ 1.,  2.,  0.,  1.,  2.,  3.,  7.,  1.,  3.,  1.,  7.,  0.]])"
      ]
     },
     "execution_count": 97,
     "metadata": {},
     "output_type": "execute_result"
    }
   ],
   "source": [
    "a"
   ]
  },
  {
   "cell_type": "code",
   "execution_count": 118,
   "metadata": {
    "collapsed": false
   },
   "outputs": [
    {
     "name": "stdout",
     "output_type": "stream",
     "text": [
      "C IS A:  False\n",
      "c.flags.owndata:  False\n",
      "c.shape:  (12, 2)\n",
      "a.shape:  (2, 12)\n",
      "[[   9.  123.    2.    2.    9.    8.    0.    6.    3.    0.    7.    3.]\n",
      " [   1.    2.    0.    1.    2.    3.    7.    1.    3.    1.    7.    0.]]\n",
      "[[   9.  123.]\n",
      " [   2.    2.]\n",
      " [   9.    8.]\n",
      " [   0.    6.]\n",
      " [   3.    0.]\n",
      " [   7.    3.]\n",
      " [   1.    2.]\n",
      " [   0.    1.]\n",
      " [   2.    3.]\n",
      " [   7.    1.]\n",
      " [   3.    1.]\n",
      " [   7.    0.]]\n",
      "[[   9.  123.    2.    2.    9.    8.    0.    6.    3.    0.    7.    3.]\n",
      " [   1.    2.    0.    1.    2.    3.    7.    1.    3.    1.    7.    0.]]\n"
     ]
    }
   ],
   "source": [
    "c = a.view() # shallow copy\n",
    "print(\"C IS A: \",  c is a) # C is not A\n",
    "print(\"c.flags.owndata: \", c.flags.owndata) # C doesn't own the data\n",
    "c.shape = (12, -1)\n",
    "print(\"c.shape: \", c.shape)\n",
    "print(\"a.shape: \", a.shape) # shape doesn't change when c's shape is changed\n",
    "print(a)\n",
    "c[0, 1] = 123\n",
    "print(c)\n",
    "print(a) # C changes A..."
   ]
  },
  {
   "cell_type": "code",
   "execution_count": 122,
   "metadata": {
    "collapsed": false
   },
   "outputs": [
    {
     "name": "stdout",
     "output_type": "stream",
     "text": [
      "[[[2]]\n",
      "\n",
      " [[3]]\n",
      "\n",
      " [[4]]\n",
      "\n",
      " [[5]]]\n",
      "[[[8]\n",
      "  [5]\n",
      "  [4]]]\n",
      "[[[5 4 6 8 3]]]\n"
     ]
    },
    {
     "data": {
      "text/plain": [
       "array([[[42, 34, 50, 66, 26],\n",
       "        [27, 22, 32, 42, 17],\n",
       "        [22, 18, 26, 34, 14]],\n",
       "\n",
       "       [[43, 35, 51, 67, 27],\n",
       "        [28, 23, 33, 43, 18],\n",
       "        [23, 19, 27, 35, 15]],\n",
       "\n",
       "       [[44, 36, 52, 68, 28],\n",
       "        [29, 24, 34, 44, 19],\n",
       "        [24, 20, 28, 36, 16]],\n",
       "\n",
       "       [[45, 37, 53, 69, 29],\n",
       "        [30, 25, 35, 45, 20],\n",
       "        [25, 21, 29, 37, 17]]])"
      ]
     },
     "execution_count": 122,
     "metadata": {},
     "output_type": "execute_result"
    }
   ],
   "source": [
    "a = array([2,3,4,5])\n",
    "b = array([8,5,4])\n",
    "c = array([5,4,6,8,3])\n",
    "ax,bx,cx = ix_(a,b,c)  # looks like this has something to do with matrices algebra. \n",
    "                        # It does some maths to the matrices, the tutorial said a + b * c\n",
    "                        # not exactly the best explained, so will have to look at it in more detail. \n",
    "\n",
    "print(ax)\n",
    "print(bx)\n",
    "print(cx)\n",
    "\n",
    "ax+bx*cx"
   ]
  },
  {
   "cell_type": "code",
   "execution_count": 123,
   "metadata": {
    "collapsed": false
   },
   "outputs": [],
   "source": [
    "def ufunc_reduce(ufct, *vectors):\n",
    "    vs = ix_(*vectors)\n",
    "    r = ufct.identity\n",
    "    for v in vs:\n",
    "        r = ufct(r,v)\n",
    "    return r"
   ]
  },
  {
   "cell_type": "code",
   "execution_count": 124,
   "metadata": {
    "collapsed": false
   },
   "outputs": [
    {
     "data": {
      "text/plain": [
       "array([[[15, 14, 16, 18, 13],\n",
       "        [12, 11, 13, 15, 10],\n",
       "        [11, 10, 12, 14,  9]],\n",
       "\n",
       "       [[16, 15, 17, 19, 14],\n",
       "        [13, 12, 14, 16, 11],\n",
       "        [12, 11, 13, 15, 10]],\n",
       "\n",
       "       [[17, 16, 18, 20, 15],\n",
       "        [14, 13, 15, 17, 12],\n",
       "        [13, 12, 14, 16, 11]],\n",
       "\n",
       "       [[18, 17, 19, 21, 16],\n",
       "        [15, 14, 16, 18, 13],\n",
       "        [14, 13, 15, 17, 12]]])"
      ]
     },
     "execution_count": 124,
     "metadata": {},
     "output_type": "execute_result"
    }
   ],
   "source": [
    "ufunc_reduce(add,a,b,c) # ha, this looks like a nifty way of producing the same answer. \n",
    "                        # need to learn mor eon how passing and calling functions work. \n",
    "                        # Reminds me of function pointers. <3"
   ]
  },
  {
   "cell_type": "code",
   "execution_count": 125,
   "metadata": {
    "collapsed": false
   },
   "outputs": [
    {
     "data": {
      "text/plain": [
       "array([[ 1.,  3.],\n",
       "       [ 2.,  4.]])"
      ]
     },
     "execution_count": 125,
     "metadata": {},
     "output_type": "execute_result"
    }
   ],
   "source": [
    "from numpy import *\n",
    "from numpy.linalg import *\n",
    "\n",
    "a = array([[1.0, 2.0], [3.0, 4.0]])\n",
    "a.transpose()"
   ]
  },
  {
   "cell_type": "code",
   "execution_count": 126,
   "metadata": {
    "collapsed": false
   },
   "outputs": [
    {
     "data": {
      "text/plain": [
       "array([[-2. ,  1. ],\n",
       "       [ 1.5, -0.5]])"
      ]
     },
     "execution_count": 126,
     "metadata": {},
     "output_type": "execute_result"
    }
   ],
   "source": [
    "inv(a)"
   ]
  },
  {
   "cell_type": "code",
   "execution_count": 128,
   "metadata": {
    "collapsed": false
   },
   "outputs": [
    {
     "data": {
      "text/plain": [
       "array([[ 1.,  0.],\n",
       "       [ 0.,  1.]])"
      ]
     },
     "execution_count": 128,
     "metadata": {},
     "output_type": "execute_result"
    }
   ],
   "source": [
    "u = eye(2) # unit 2x2 matrix; \"eye\" represents \"I\" # LOL\n",
    "u"
   ]
  },
  {
   "cell_type": "code",
   "execution_count": 130,
   "metadata": {
    "collapsed": false
   },
   "outputs": [
    {
     "data": {
      "text/plain": [
       "array([[ 0., -1.],\n",
       "       [ 1.,  0.]])"
      ]
     },
     "execution_count": 130,
     "metadata": {},
     "output_type": "execute_result"
    }
   ],
   "source": [
    "j = array([[0.0, -1.0], [1.0, 0.0]])\n",
    "j"
   ]
  },
  {
   "cell_type": "code",
   "execution_count": 132,
   "metadata": {
    "collapsed": false
   },
   "outputs": [
    {
     "data": {
      "text/plain": [
       "array([[-1.,  0.],\n",
       "       [ 0., -1.]])"
      ]
     },
     "execution_count": 132,
     "metadata": {},
     "output_type": "execute_result"
    }
   ],
   "source": [
    "dot(j, j) # matrix product"
   ]
  },
  {
   "cell_type": "code",
   "execution_count": 133,
   "metadata": {
    "collapsed": false
   },
   "outputs": [
    {
     "data": {
      "text/plain": [
       "2.0"
      ]
     },
     "execution_count": 133,
     "metadata": {},
     "output_type": "execute_result"
    }
   ],
   "source": [
    "trace(u)  # trace"
   ]
  },
  {
   "cell_type": "code",
   "execution_count": 134,
   "metadata": {
    "collapsed": false
   },
   "outputs": [
    {
     "data": {
      "text/plain": [
       "0.0"
      ]
     },
     "execution_count": 134,
     "metadata": {},
     "output_type": "execute_result"
    }
   ],
   "source": [
    "trace(j)  # trace does what I think it does"
   ]
  },
  {
   "cell_type": "code",
   "execution_count": 135,
   "metadata": {
    "collapsed": false
   },
   "outputs": [
    {
     "data": {
      "text/plain": [
       "array([[ 5.],\n",
       "       [ 7.]])"
      ]
     },
     "execution_count": 135,
     "metadata": {},
     "output_type": "execute_result"
    }
   ],
   "source": [
    "y = array([[5.], [7.]])\n",
    "y"
   ]
  },
  {
   "cell_type": "code",
   "execution_count": 136,
   "metadata": {
    "collapsed": false
   },
   "outputs": [
    {
     "data": {
      "text/plain": [
       "array([[-3.],\n",
       "       [ 4.]])"
      ]
     },
     "execution_count": 136,
     "metadata": {},
     "output_type": "execute_result"
    }
   ],
   "source": [
    "solve(a, y)"
   ]
  },
  {
   "cell_type": "code",
   "execution_count": 137,
   "metadata": {
    "collapsed": false
   },
   "outputs": [
    {
     "data": {
      "text/plain": [
       "(array([ 0.+1.j,  0.-1.j]),\n",
       " array([[ 0.70710678+0.j        ,  0.70710678-0.j        ],\n",
       "        [ 0.00000000-0.70710678j,  0.00000000+0.70710678j]]))"
      ]
     },
     "execution_count": 137,
     "metadata": {},
     "output_type": "execute_result"
    }
   ],
   "source": [
    "eig(j) # what? Does eigen vectors? :D"
   ]
  },
  {
   "cell_type": "code",
   "execution_count": 140,
   "metadata": {
    "collapsed": false
   },
   "outputs": [
    {
     "data": {
      "text/plain": [
       "matrix([[ 1.,  2.],\n",
       "        [ 3.,  4.]])"
      ]
     },
     "execution_count": 140,
     "metadata": {},
     "output_type": "execute_result"
    }
   ],
   "source": [
    "A = matrix('1.0 2.0; 3.0 4.0')\n",
    "A"
   ]
  },
  {
   "cell_type": "code",
   "execution_count": 141,
   "metadata": {
    "collapsed": false
   },
   "outputs": [
    {
     "data": {
      "text/plain": [
       "matrix([[ 1.,  3.],\n",
       "        [ 2.,  4.]])"
      ]
     },
     "execution_count": 141,
     "metadata": {},
     "output_type": "execute_result"
    }
   ],
   "source": [
    "A.T"
   ]
  },
  {
   "cell_type": "code",
   "execution_count": 148,
   "metadata": {
    "collapsed": false
   },
   "outputs": [
    {
     "name": "stdout",
     "output_type": "stream",
     "text": [
      "[[ 5.  7.]]\n"
     ]
    },
    {
     "data": {
      "text/plain": [
       "matrix([[ 5.],\n",
       "        [ 7.]])"
      ]
     },
     "execution_count": 148,
     "metadata": {},
     "output_type": "execute_result"
    }
   ],
   "source": [
    "X = matrix('5.0 7.0')\n",
    "print(X)\n",
    "Y = X.T\n",
    "Y"
   ]
  },
  {
   "cell_type": "code",
   "execution_count": 152,
   "metadata": {
    "collapsed": false
   },
   "outputs": [
    {
     "name": "stdout",
     "output_type": "stream",
     "text": [
      "[[ 19.]\n",
      " [ 43.]]\n",
      "[[-2.   1. ]\n",
      " [ 1.5 -0.5]]\n"
     ]
    },
    {
     "data": {
      "text/plain": [
       "matrix([[-3.],\n",
       "        [ 4.]])"
      ]
     },
     "execution_count": 152,
     "metadata": {},
     "output_type": "execute_result"
    }
   ],
   "source": [
    "print(A*Y)\n",
    "print(A.I)\n",
    "solve(A, Y) # Solves a linear equation. "
   ]
  },
  {
   "cell_type": "code",
   "execution_count": 179,
   "metadata": {
    "collapsed": false
   },
   "outputs": [
    {
     "name": "stdout",
     "output_type": "stream",
     "text": [
      "[ 0  1  2  3  4  5  6  7  8  9 10 11]\n",
      "<class 'numpy.ndarray'> <class 'numpy.matrixlib.defmatrix.matrix'>\n",
      "\n",
      "[[ 0  1  2  3]\n",
      " [ 4  5  6  7]\n",
      " [ 8  9 10 11]] (3, 4)\n",
      "[[ 0  1  2  3]\n",
      " [ 4  5  6  7]\n",
      " [ 8  9 10 11]] (3, 4)\n",
      "\n",
      "Q Row and Shape\n",
      "[1 5 9]\n",
      "(3,)\n",
      "\n",
      "M Col and Shape\n",
      "[[ 0  1  2  3]\n",
      " [ 4  5  6  7]\n",
      " [ 8  9 10 11]]\n",
      "(3, 4)\n"
     ]
    }
   ],
   "source": [
    "Q = arange(12)\n",
    "print(Q)\n",
    "Q.shape = (3,4)\n",
    "\n",
    "M = mat(Q.copy())\n",
    "print(type(Q),type(M))\n",
    "print()\n",
    "print(Q, Q.shape)\n",
    "print(M, M.shape)\n",
    "print(\"\\nQ Row and Shape\")\n",
    "print(Q[:,1]); print(Q[:,1].shape)\n",
    "print(\"\\nM Col and Shape\")\n",
    "print(M[:]); print(M[:].shape)"
   ]
  },
  {
   "cell_type": "code",
   "execution_count": null,
   "metadata": {
    "collapsed": true
   },
   "outputs": [],
   "source": []
  }
 ],
 "metadata": {
  "kernelspec": {
   "display_name": "Python 3",
   "language": "python",
   "name": "python3"
  },
  "language_info": {
   "codemirror_mode": {
    "name": "ipython",
    "version": 3
   },
   "file_extension": ".py",
   "mimetype": "text/x-python",
   "name": "python",
   "nbconvert_exporter": "python",
   "pygments_lexer": "ipython3",
   "version": "3.5.1"
  }
 },
 "nbformat": 4,
 "nbformat_minor": 0
}
